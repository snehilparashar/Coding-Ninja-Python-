{
 "cells": [
  {
   "cell_type": "code",
   "execution_count": 6,
   "id": "fe0c4246",
   "metadata": {},
   "outputs": [],
   "source": [
    "def factorial(n):\n",
    "    \n",
    "    n_fact = 1\n",
    "    \n",
    "    for i in range(1,n+1):\n",
    "        n_fact = n_fact*i\n",
    "        \n",
    "    return n_fact"
   ]
  },
  {
   "cell_type": "code",
   "execution_count": 9,
   "id": "87adfdeb",
   "metadata": {},
   "outputs": [
    {
     "name": "stdout",
     "output_type": "stream",
     "text": [
      "4\n",
      "2\n",
      "6.0\n"
     ]
    }
   ],
   "source": [
    "n = int(input())\n",
    "r = int(input())\n",
    "\n",
    "n_fact = factorial(n)\n",
    "r_fact = factorial(r)\n",
    "n_r_fact = factorial(n-r)\n",
    "\n",
    "answer = n_fact/(n_r_fact*r_fact)\n",
    "\n",
    "print(answer)"
   ]
  },
  {
   "cell_type": "code",
   "execution_count": 16,
   "id": "a1ed282f",
   "metadata": {},
   "outputs": [],
   "source": [
    "def is_prime(n):\n",
    "    \n",
    "    for i in range(2,n):\n",
    "        if n % i == 0:\n",
    "            break\n",
    "    else:\n",
    "        return True\n",
    "    \n",
    "    return False"
   ]
  },
  {
   "cell_type": "code",
   "execution_count": 17,
   "id": "d5acf12c",
   "metadata": {},
   "outputs": [
    {
     "name": "stdout",
     "output_type": "stream",
     "text": [
      "False\n"
     ]
    }
   ],
   "source": [
    "a = is_prime(8)\n",
    "print(a)"
   ]
  },
  {
   "cell_type": "code",
   "execution_count": 18,
   "id": "c7c993e4",
   "metadata": {},
   "outputs": [],
   "source": [
    "def isprime2toN(n):\n",
    "    for k in range(2,n):\n",
    "        is_prime_function = is_prime(k)\n",
    "\n",
    "        if is_prime_function:\n",
    "            print(k)"
   ]
  },
  {
   "cell_type": "code",
   "execution_count": 19,
   "id": "d3dd4066",
   "metadata": {},
   "outputs": [
    {
     "name": "stdout",
     "output_type": "stream",
     "text": [
      "2\n",
      "3\n",
      "5\n",
      "7\n"
     ]
    }
   ],
   "source": [
    "isprime2toN(9)"
   ]
  },
  {
   "cell_type": "markdown",
   "id": "881baaec",
   "metadata": {},
   "source": [
    "### Reverse of List"
   ]
  },
  {
   "cell_type": "code",
   "execution_count": 3,
   "id": "f0a96c6f",
   "metadata": {},
   "outputs": [],
   "source": [
    "def reverse_list(li):\n",
    "    \n",
    "    length = len(li)\n",
    "    \n",
    "    for i in range(length//2):\n",
    "        \n",
    "        li[i],li[length-i-1]  = li[length-i-1],li[i]\n",
    "        \n",
    "        return li"
   ]
  },
  {
   "cell_type": "code",
   "execution_count": 4,
   "id": "10a1a93e",
   "metadata": {},
   "outputs": [
    {
     "data": {
      "text/plain": [
       "[5, 2, 3, 4, 1]"
      ]
     },
     "execution_count": 4,
     "metadata": {},
     "output_type": "execute_result"
    }
   ],
   "source": [
    "li = [1,2,3,4,5]\n",
    "reverse_list(li)"
   ]
  },
  {
   "cell_type": "markdown",
   "id": "19a8d1a4",
   "metadata": {},
   "source": [
    "### Swap Alternate"
   ]
  },
  {
   "cell_type": "code",
   "execution_count": 20,
   "id": "0abb97d8",
   "metadata": {},
   "outputs": [],
   "source": [
    "def swap_alternate(li):\n",
    "    \n",
    "    length = len(li)\n",
    "    \n",
    "    i = 0\n",
    "    while i < length-1:\n",
    "        li[i],li[i+1] = li[i+1],li[i]\n",
    "        \n",
    "        i = i + 2\n",
    "        \n",
    "    return li"
   ]
  },
  {
   "cell_type": "code",
   "execution_count": 21,
   "id": "69588444",
   "metadata": {},
   "outputs": [
    {
     "data": {
      "text/plain": [
       "[2, 1, 4, 3, 5]"
      ]
     },
     "execution_count": 21,
     "metadata": {},
     "output_type": "execute_result"
    }
   ],
   "source": [
    "li = [1,2,3,4,5]\n",
    "swap_alternate(li)"
   ]
  },
  {
   "cell_type": "markdown",
   "id": "981ccfc4",
   "metadata": {},
   "source": [
    "### Fibonacci Number"
   ]
  },
  {
   "cell_type": "code",
   "execution_count": 22,
   "id": "01ad2937",
   "metadata": {},
   "outputs": [],
   "source": [
    "#To check wether the number is fibonnaci number or not\n",
    "\n",
    "def fibonacci_series(n):\n",
    "    \n",
    "    if n == 0 or n == 1:\n",
    "        return True\n",
    "    \n",
    "    n1 = 0\n",
    "    n2 = 1\n",
    "    \n",
    "    while n1 < n:\n",
    "        \n",
    "        next_n = n1 + n2\n",
    "        \n",
    "        n1 = n2\n",
    "        \n",
    "        n2 = next_n\n",
    "        \n",
    "    if n1 == n:\n",
    "        return True\n",
    "    else:\n",
    "        return False\n",
    "        "
   ]
  },
  {
   "cell_type": "code",
   "execution_count": 25,
   "id": "c6ef4289",
   "metadata": {},
   "outputs": [
    {
     "name": "stdout",
     "output_type": "stream",
     "text": [
      "6\n"
     ]
    },
    {
     "data": {
      "text/plain": [
       "False"
      ]
     },
     "execution_count": 25,
     "metadata": {},
     "output_type": "execute_result"
    }
   ],
   "source": [
    "n = int(input())\n",
    "fibonacci_series(n)"
   ]
  },
  {
   "cell_type": "code",
   "execution_count": 26,
   "id": "7c6913b8",
   "metadata": {},
   "outputs": [],
   "source": [
    "#Print nth Fibonacci number"
   ]
  },
  {
   "cell_type": "code",
   "execution_count": 30,
   "id": "b9560bfd",
   "metadata": {},
   "outputs": [],
   "source": [
    "def fib_number(n):\n",
    "    \n",
    "    n1 = 0\n",
    "    n2 = 1\n",
    "    \n",
    "    for i in range(1,n):\n",
    "        \n",
    "        n1,n2 = n2,n1+n2\n",
    "        \n",
    "    return n1"
   ]
  },
  {
   "cell_type": "code",
   "execution_count": 31,
   "id": "e7ceeda6",
   "metadata": {},
   "outputs": [
    {
     "name": "stdout",
     "output_type": "stream",
     "text": [
      "3\n"
     ]
    },
    {
     "data": {
      "text/plain": [
       "1"
      ]
     },
     "execution_count": 31,
     "metadata": {},
     "output_type": "execute_result"
    }
   ],
   "source": [
    "n = int(input())\n",
    "fib_number(n)"
   ]
  },
  {
   "cell_type": "markdown",
   "id": "1600b940",
   "metadata": {},
   "source": [
    "### Check Palindrome"
   ]
  },
  {
   "cell_type": "code",
   "execution_count": 36,
   "id": "e6713a6f",
   "metadata": {},
   "outputs": [],
   "source": [
    "def check_palindrom(num):\n",
    "    \n",
    "    reverse = 0\n",
    "    temp_num = num\n",
    "    \n",
    "    while temp_num > 0:\n",
    "        remainder = temp_num % 10\n",
    "        reverse = reverse*10 + remainder\n",
    "        \n",
    "        temp_num = temp_num//10\n",
    "        \n",
    "    if reverse == num:\n",
    "        return True\n",
    "    else:\n",
    "        return False"
   ]
  },
  {
   "cell_type": "code",
   "execution_count": 37,
   "id": "1a90933f",
   "metadata": {},
   "outputs": [
    {
     "name": "stdout",
     "output_type": "stream",
     "text": [
      "121\n",
      "True\n"
     ]
    }
   ],
   "source": [
    "n = int(input())\n",
    "\n",
    "ispalindrome = check_palindrom(n)\n",
    "\n",
    "\n",
    "if ispalindrome:\n",
    "    print(\"True\")\n",
    "else:\n",
    "    print(\"False\")"
   ]
  },
  {
   "cell_type": "markdown",
   "id": "4f292a26",
   "metadata": {},
   "source": [
    "### Fahrenheit to Celcius"
   ]
  },
  {
   "cell_type": "code",
   "execution_count": 40,
   "id": "30656e75",
   "metadata": {},
   "outputs": [],
   "source": [
    "def printtable(start,end,gap):\n",
    "    \n",
    "    while True:\n",
    "        c = 0\n",
    "        \n",
    "        if start <= end:\n",
    "            \n",
    "            c = (start-32) * 5/9\n",
    "            \n",
    "            print(start,int(c))\n",
    "            \n",
    "            start = start + gap\n",
    "            \n",
    "        else:\n",
    "            break"
   ]
  },
  {
   "cell_type": "code",
   "execution_count": 41,
   "id": "d5f02fd2",
   "metadata": {},
   "outputs": [
    {
     "name": "stdout",
     "output_type": "stream",
     "text": [
      "50\n",
      "100\n",
      "10\n",
      "50 10\n",
      "60 15\n",
      "70 21\n",
      "80 26\n",
      "90 32\n",
      "100 37\n"
     ]
    }
   ],
   "source": [
    "start = int(input())\n",
    "end = int(input())\n",
    "gap = int(input())\n",
    "printtable(start,end,gap)"
   ]
  },
  {
   "cell_type": "markdown",
   "id": "5e618507",
   "metadata": {},
   "source": [
    "### Armstrong Number"
   ]
  },
  {
   "cell_type": "code",
   "execution_count": 45,
   "id": "6a14dd3e",
   "metadata": {},
   "outputs": [],
   "source": [
    "def armstrong_number(num):\n",
    "    \n",
    "    count_n = 0\n",
    "    temp1 = num\n",
    "    \n",
    "    while temp1 > 0:\n",
    "        count_n = count_n + 1\n",
    "        temp1 = temp1//10\n",
    "        \n",
    "    temp2 = num\n",
    "    sum = 0\n",
    "    \n",
    "    while temp2 > 0:\n",
    "        digit = temp2 % 10\n",
    "        sum = sum + digit**count_n\n",
    "        \n",
    "        temp2 = temp2//10\n",
    "        \n",
    "    if sum == num:\n",
    "        return True\n",
    "    else:\n",
    "        return False"
   ]
  },
  {
   "cell_type": "code",
   "execution_count": 48,
   "id": "3dd08dc2",
   "metadata": {},
   "outputs": [
    {
     "name": "stdout",
     "output_type": "stream",
     "text": [
      "234\n"
     ]
    },
    {
     "data": {
      "text/plain": [
       "False"
      ]
     },
     "execution_count": 48,
     "metadata": {},
     "output_type": "execute_result"
    }
   ],
   "source": [
    "n = int(input())\n",
    "\n",
    "armstrong_number(n)"
   ]
  },
  {
   "cell_type": "code",
   "execution_count": null,
   "id": "cb0b4a65",
   "metadata": {},
   "outputs": [],
   "source": []
  }
 ],
 "metadata": {
  "kernelspec": {
   "display_name": "Python 3 (ipykernel)",
   "language": "python",
   "name": "python3"
  },
  "language_info": {
   "codemirror_mode": {
    "name": "ipython",
    "version": 3
   },
   "file_extension": ".py",
   "mimetype": "text/x-python",
   "name": "python",
   "nbconvert_exporter": "python",
   "pygments_lexer": "ipython3",
   "version": "3.9.12"
  }
 },
 "nbformat": 4,
 "nbformat_minor": 5
}
