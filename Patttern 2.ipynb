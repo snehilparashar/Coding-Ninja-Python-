{
 "cells": [
  {
   "cell_type": "markdown",
   "id": "b1404f99",
   "metadata": {},
   "source": [
    "### More complex pattern"
   ]
  },
  {
   "cell_type": "code",
   "execution_count": 6,
   "id": "7a13a3aa",
   "metadata": {},
   "outputs": [
    {
     "name": "stdout",
     "output_type": "stream",
     "text": [
      "4\n",
      "_ _ _ 1 \n",
      "_ _ 2 1 2 \n",
      "_ 3 2 1 2 3 \n",
      "4 3 2 1 2 3 4 \n"
     ]
    }
   ],
   "source": [
    "n = int(input())\n",
    "\n",
    "i = 1\n",
    "while i <= n:\n",
    "    gap = 1\n",
    "    while gap <= (n-i):\n",
    "        print(\"_\",end=\" \")\n",
    "        gap = gap + 1\n",
    "        \n",
    "    p = i\n",
    "    j = 1\n",
    "    while j <= i:\n",
    "        print(p,end=\" \")\n",
    "        p = p - 1\n",
    "        j = j + 1\n",
    "    p = i\n",
    "    j = 2\n",
    "    while j <= i:\n",
    "        print(j,end=\" \")\n",
    "        p = p + 1\n",
    "        j = j + 1\n",
    "    print()    \n",
    "    i = i + 1"
   ]
  },
  {
   "cell_type": "code",
   "execution_count": 11,
   "id": "61572b7d",
   "metadata": {},
   "outputs": [
    {
     "name": "stdout",
     "output_type": "stream",
     "text": [
      "4\n",
      "1 _ _ _ _ _ _ 1 \n",
      "1 2 _ _ _ _ 2 1 \n",
      "1 2 3 _ _ 3 2 1 \n",
      "1 2 3 4 4 3 2 1 \n"
     ]
    }
   ],
   "source": [
    "n = int(input())\n",
    "\n",
    "i = 1\n",
    "while i <= n:\n",
    "    j = 1\n",
    "    while j <= i:\n",
    "        print(j,end=\" \")\n",
    "        j = j + 1\n",
    "    gaps = 1\n",
    "    while gaps <= 2*(n-i):\n",
    "        print(\"_\",end=\" \")\n",
    "        gaps = gaps + 1\n",
    "    p = i\n",
    "    j = 1\n",
    "    while j <= (i):\n",
    "        print(p,end=\" \")\n",
    "        p = p -1 \n",
    "        j = j + 1\n",
    "        \n",
    "    print()\n",
    "    i = i + 1\n",
    "    "
   ]
  },
  {
   "cell_type": "markdown",
   "id": "f4776e16",
   "metadata": {},
   "source": [
    "### For Loop"
   ]
  },
  {
   "cell_type": "code",
   "execution_count": 12,
   "id": "147ad933",
   "metadata": {},
   "outputs": [
    {
     "name": "stdout",
     "output_type": "stream",
     "text": [
      "a\n",
      "b\n",
      "c\n",
      "d\n"
     ]
    }
   ],
   "source": [
    "s = \"abcd\"\n",
    "for i in s:\n",
    "    print(i)"
   ]
  },
  {
   "cell_type": "code",
   "execution_count": 13,
   "id": "94096b8b",
   "metadata": {},
   "outputs": [
    {
     "name": "stdout",
     "output_type": "stream",
     "text": [
      "6\n",
      "0 1 2 3 4 5 "
     ]
    }
   ],
   "source": [
    "n = int(input())\n",
    "\n",
    "for i in range(0,n):\n",
    "    print(i,end=\" \")"
   ]
  },
  {
   "cell_type": "code",
   "execution_count": 14,
   "id": "c843418c",
   "metadata": {},
   "outputs": [
    {
     "name": "stdout",
     "output_type": "stream",
     "text": [
      "6\n",
      "0 1 2 3 4 5 6 "
     ]
    }
   ],
   "source": [
    "n = int(input())\n",
    "\n",
    "for i in range(0,n+1):\n",
    "    print(i,end=\" \")"
   ]
  },
  {
   "cell_type": "code",
   "execution_count": 17,
   "id": "933b9149",
   "metadata": {},
   "outputs": [
    {
     "name": "stdout",
     "output_type": "stream",
     "text": [
      "5\n",
      "0 1 2 3 4 "
     ]
    }
   ],
   "source": [
    "n = int(input())\n",
    "\n",
    "for i in range(n):\n",
    "    print(i,end=\" \")"
   ]
  },
  {
   "cell_type": "code",
   "execution_count": 19,
   "id": "ee416648",
   "metadata": {},
   "outputs": [
    {
     "name": "stdout",
     "output_type": "stream",
     "text": [
      "5\n",
      "5\n",
      "4\n",
      "3\n",
      "2\n"
     ]
    }
   ],
   "source": [
    "n = int(input()) \n",
    "\n",
    "for i in range(n,1,-1):\n",
    "    print(i)"
   ]
  },
  {
   "cell_type": "code",
   "execution_count": 20,
   "id": "94ec7b8f",
   "metadata": {},
   "outputs": [
    {
     "name": "stdout",
     "output_type": "stream",
     "text": [
      "5\n",
      "5\n",
      "4\n",
      "3\n",
      "2\n",
      "1\n"
     ]
    }
   ],
   "source": [
    "n = int(input()) \n",
    "\n",
    "for i in range(n,0,-1):\n",
    "    print(i)"
   ]
  },
  {
   "cell_type": "code",
   "execution_count": 21,
   "id": "1e9e358c",
   "metadata": {},
   "outputs": [
    {
     "name": "stdout",
     "output_type": "stream",
     "text": [
      "1\n",
      "15\n",
      "3 6 9 12 15 "
     ]
    }
   ],
   "source": [
    "a = int(input())\n",
    "b = int(input())\n",
    "\n",
    "for i in range(a,b+1):\n",
    "    if i % 3 == 0:\n",
    "        print(i,end=\" \")"
   ]
  },
  {
   "cell_type": "markdown",
   "id": "34ab5037",
   "metadata": {},
   "source": [
    "### Prime number with for Loop"
   ]
  },
  {
   "cell_type": "code",
   "execution_count": 23,
   "id": "3186333b",
   "metadata": {},
   "outputs": [
    {
     "name": "stdout",
     "output_type": "stream",
     "text": [
      "7\n",
      "The number is prime\n"
     ]
    }
   ],
   "source": [
    "n = int(input())\n",
    "flag = False\n",
    "for i in range(2,n,1):\n",
    "    if n % i == 0:\n",
    "        flag = True\n",
    "        \n",
    "if flag:\n",
    "    print(\"The number is not prime\")\n",
    "else:\n",
    "    print(\"The number is prime\")\n",
    "    "
   ]
  },
  {
   "cell_type": "markdown",
   "id": "049b4d38",
   "metadata": {},
   "source": [
    "### Pattern with for Loop"
   ]
  },
  {
   "cell_type": "code",
   "execution_count": 29,
   "id": "e70962e2",
   "metadata": {},
   "outputs": [
    {
     "name": "stdout",
     "output_type": "stream",
     "text": [
      "5\n",
      "_ _ _ _ 1 \n",
      "_ _ _ 2 3 2 \n",
      "_ _ 3 4 5 4 3 \n",
      "_ 4 5 6 7 6 5 4 \n",
      "5 6 7 8 9 8 7 6 5 \n"
     ]
    }
   ],
   "source": [
    "n = int(input())\n",
    "\n",
    "for i in range(1,n+1,1):\n",
    "    for j in range(0,n-i,1):\n",
    "        print(\"_\",end=\" \")\n",
    "        \n",
    "    for k in range(i,2*i,1):\n",
    "        print(k,end=\" \")\n",
    "        \n",
    "    for l in range(2*i-2,i-1,-1):\n",
    "        print(l,end=\" \")\n",
    "    print()"
   ]
  },
  {
   "cell_type": "code",
   "execution_count": 33,
   "id": "b741bb6e",
   "metadata": {},
   "outputs": [
    {
     "name": "stdout",
     "output_type": "stream",
     "text": [
      "12\n",
      "The number is not prime\n"
     ]
    }
   ],
   "source": [
    "n = int(input())\n",
    "\n",
    "d = 2\n",
    "flag = False\n",
    "\n",
    "while d < n:\n",
    "    if ( n % d == 0):\n",
    "        flag = True\n",
    "        break\n",
    "    d = d + 1\n",
    "    \n",
    "if flag:\n",
    "    print(\"The number is not prime\")\n",
    "    \n",
    "else:\n",
    "    print(\"The number is prime\")"
   ]
  },
  {
   "cell_type": "code",
   "execution_count": 35,
   "id": "692a45c8",
   "metadata": {},
   "outputs": [
    {
     "name": "stdout",
     "output_type": "stream",
     "text": [
      "8\n"
     ]
    }
   ],
   "source": [
    "n = int(input())\n",
    "\n",
    "for i in range(2,n):\n",
    "    if n % i == 0:\n",
    "        break\n",
    "else:\n",
    "    print(\"The number is prime\")"
   ]
  },
  {
   "cell_type": "markdown",
   "id": "bacc5a5c",
   "metadata": {},
   "source": [
    "### Print all even number except which are multiple of 7"
   ]
  },
  {
   "cell_type": "code",
   "execution_count": 37,
   "id": "8b4576f7",
   "metadata": {},
   "outputs": [
    {
     "name": "stdout",
     "output_type": "stream",
     "text": [
      "22\n",
      "2 4 6 8 10 12 16 18 20 22 "
     ]
    }
   ],
   "source": [
    "n = int(input())\n",
    "\n",
    "for i in range(1,n+1):\n",
    "    if i % 7 == 0:\n",
    "        continue\n",
    "    if i % 2 == 0:\n",
    "        print(i,end=\" \")"
   ]
  },
  {
   "cell_type": "markdown",
   "id": "3302e382",
   "metadata": {},
   "source": [
    "### All assignments pattern"
   ]
  },
  {
   "cell_type": "code",
   "execution_count": null,
   "id": "5029183e",
   "metadata": {},
   "outputs": [],
   "source": []
  }
 ],
 "metadata": {
  "kernelspec": {
   "display_name": "Python 3 (ipykernel)",
   "language": "python",
   "name": "python3"
  },
  "language_info": {
   "codemirror_mode": {
    "name": "ipython",
    "version": 3
   },
   "file_extension": ".py",
   "mimetype": "text/x-python",
   "name": "python",
   "nbconvert_exporter": "python",
   "pygments_lexer": "ipython3",
   "version": "3.9.12"
  }
 },
 "nbformat": 4,
 "nbformat_minor": 5
}
