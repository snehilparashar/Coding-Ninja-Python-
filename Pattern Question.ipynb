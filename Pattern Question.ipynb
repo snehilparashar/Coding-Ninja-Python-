{
 "cells": [
  {
   "cell_type": "markdown",
   "id": "30986cef",
   "metadata": {},
   "source": [
    "### Pattern Question"
   ]
  },
  {
   "cell_type": "code",
   "execution_count": 5,
   "id": "d74cb34b",
   "metadata": {},
   "outputs": [
    {
     "name": "stdout",
     "output_type": "stream",
     "text": [
      "4\n",
      "* * * * \n",
      "* * * * \n",
      "* * * * \n",
      "* * * * \n"
     ]
    }
   ],
   "source": [
    "n = int(input())\n",
    "\n",
    "i = 1\n",
    "while i <= n:\n",
    "    j = 1\n",
    "    while j <= n:\n",
    "        print(\"*\",end = \" \")\n",
    "        j = j + 1\n",
    "    print()    \n",
    "    i = i + 1\n",
    "    "
   ]
  },
  {
   "cell_type": "code",
   "execution_count": 6,
   "id": "a1f82ce4",
   "metadata": {},
   "outputs": [
    {
     "name": "stdout",
     "output_type": "stream",
     "text": [
      "4\n",
      "* \n",
      "* * \n",
      "* * * \n",
      "* * * * \n"
     ]
    }
   ],
   "source": [
    "n = int(input())\n",
    "\n",
    "i = 1\n",
    "while i <= n:\n",
    "    j = 1\n",
    "    while j <= i:\n",
    "        print(\"*\",end=\" \")\n",
    "        j = j + 1\n",
    "    print()\n",
    "    i = i + 1\n"
   ]
  },
  {
   "cell_type": "code",
   "execution_count": 9,
   "id": "820351ee",
   "metadata": {},
   "outputs": [
    {
     "name": "stdout",
     "output_type": "stream",
     "text": [
      "4\n",
      "1 1 1 1 \n",
      "2 2 2 2 \n",
      "3 3 3 3 \n",
      "4 4 4 4 \n"
     ]
    }
   ],
   "source": [
    "n = int(input())\n",
    "\n",
    "i = 1\n",
    "while i <= n:\n",
    "    j = 1\n",
    "    while j <= n:\n",
    "        print(i,end=\" \")\n",
    "        j = j + 1\n",
    "    print()\n",
    "    i = i + 1"
   ]
  },
  {
   "cell_type": "code",
   "execution_count": 11,
   "id": "054b8ae9",
   "metadata": {},
   "outputs": [
    {
     "name": "stdout",
     "output_type": "stream",
     "text": [
      "4\n",
      "1 2 3 4 \n",
      "1 2 3 4 \n",
      "1 2 3 4 \n",
      "1 2 3 4 \n"
     ]
    }
   ],
   "source": [
    "n = int(input())\n",
    "\n",
    "i = 1\n",
    "while i <= n:\n",
    "    j = 1\n",
    "    while j <= n:\n",
    "        print(j,end=\" \")\n",
    "        j = j + 1\n",
    "        \n",
    "    print()\n",
    "    i = i + 1\n",
    "    "
   ]
  },
  {
   "cell_type": "code",
   "execution_count": 12,
   "id": "fed607ca",
   "metadata": {},
   "outputs": [
    {
     "name": "stdout",
     "output_type": "stream",
     "text": [
      "4\n",
      "4 3 2 1 \n",
      "4 3 2 1 \n",
      "4 3 2 1 \n",
      "4 3 2 1 \n"
     ]
    }
   ],
   "source": [
    "n = int(input())\n",
    "\n",
    "i = 1\n",
    "while i <= n:\n",
    "    j = 1\n",
    "    while j <= n:\n",
    "        print(n-j+1,end=\" \")\n",
    "        j = j + 1\n",
    "    print()\n",
    "    i = i +1\n"
   ]
  },
  {
   "cell_type": "code",
   "execution_count": 13,
   "id": "9dc9a0b2",
   "metadata": {},
   "outputs": [
    {
     "name": "stdout",
     "output_type": "stream",
     "text": [
      "4\n",
      "1 \n",
      "1 2 \n",
      "1 2 3 \n",
      "1 2 3 4 \n"
     ]
    }
   ],
   "source": [
    "n = int(input())\n",
    "\n",
    "i = 1\n",
    "while i <= n:\n",
    "    j = 1\n",
    "    while j <= i:\n",
    "        print(j,end=\" \")\n",
    "        j = j + 1\n",
    "    print()\n",
    "    \n",
    "    i = i + 1\n",
    "             "
   ]
  },
  {
   "cell_type": "code",
   "execution_count": 14,
   "id": "e16eeb1d",
   "metadata": {},
   "outputs": [
    {
     "name": "stdout",
     "output_type": "stream",
     "text": [
      "4\n",
      "1 \n",
      "2 3 \n",
      "3 4 5 \n",
      "4 5 6 7 \n"
     ]
    }
   ],
   "source": [
    "n = int(input())\n",
    "\n",
    "i = 1\n",
    "while i <= n:\n",
    "    j = 1\n",
    "    p = i\n",
    "    while j <= i:\n",
    "        print(p,end=\" \")\n",
    "        j = j + 1\n",
    "        p = p + 1\n",
    "        \n",
    "    print()\n",
    "    i = i + 1"
   ]
  },
  {
   "cell_type": "code",
   "execution_count": 15,
   "id": "38bb8896",
   "metadata": {},
   "outputs": [
    {
     "name": "stdout",
     "output_type": "stream",
     "text": [
      "4\n",
      "1 \n",
      "2 3 \n",
      "3 4 5 \n",
      "4 5 6 7 \n"
     ]
    }
   ],
   "source": [
    "n = int(input())\n",
    "\n",
    "i = 1\n",
    "while i <= n:\n",
    "    j = 1\n",
    "    p = 0\n",
    "    while j <= i:\n",
    "        print(p+i,end=\" \")\n",
    "        p = p + 1\n",
    "        j = j + 1\n",
    "    print()    \n",
    "    i = i + 1"
   ]
  },
  {
   "cell_type": "code",
   "execution_count": 17,
   "id": "8b8515e7",
   "metadata": {},
   "outputs": [
    {
     "name": "stdout",
     "output_type": "stream",
     "text": [
      "4\n",
      "1 \n",
      "2 1 \n",
      "3 2 1 \n",
      "4 3 2 1 \n"
     ]
    }
   ],
   "source": [
    "n = int(input())\n",
    "\n",
    "i = 1\n",
    "while i <= n:\n",
    "    j = 1\n",
    "    while j <= i:\n",
    "        print(i-j+1,end = \" \")\n",
    "        j = j + 1\n",
    "    print()\n",
    "    i = i + 1"
   ]
  },
  {
   "cell_type": "markdown",
   "id": "08548b36",
   "metadata": {},
   "source": [
    "### Character Pattern"
   ]
  },
  {
   "cell_type": "code",
   "execution_count": 28,
   "id": "78e263d9",
   "metadata": {},
   "outputs": [
    {
     "name": "stdout",
     "output_type": "stream",
     "text": [
      "4\n",
      "A B C D \n",
      "A B C D \n",
      "A B C D \n",
      "A B C D \n"
     ]
    }
   ],
   "source": [
    "n = int(input())\n",
    "\n",
    "i = 1\n",
    "while i <= n:\n",
    "    j = 1\n",
    "    while j <= n:\n",
    "        charP = chr(ord(\"A\")+j-1)\n",
    "        print(charP,end=\" \")\n",
    "        j = j + 1\n",
    "    print()\n",
    "    i = i + 1"
   ]
  },
  {
   "cell_type": "code",
   "execution_count": 30,
   "id": "63fb5036",
   "metadata": {},
   "outputs": [
    {
     "name": "stdout",
     "output_type": "stream",
     "text": [
      "4\n",
      "A \n",
      "A B \n",
      "A B C \n",
      "A B C D \n"
     ]
    }
   ],
   "source": [
    "n = int(input())\n",
    "\n",
    "i = 1\n",
    "while i <= n:\n",
    "    j = 1\n",
    "    \n",
    "    while j <= i:\n",
    "        start_char = chr(ord(\"A\")+j-1)\n",
    "\n",
    "        print(start_char,end=\" \")\n",
    "        j =j + 1\n",
    "    print()\n",
    "    i = i + 1\n",
    "        "
   ]
  },
  {
   "cell_type": "code",
   "execution_count": 34,
   "id": "7c69a248",
   "metadata": {
    "scrolled": true
   },
   "outputs": [
    {
     "name": "stdout",
     "output_type": "stream",
     "text": [
      "4\n",
      "A B C D \n",
      "B C D E \n",
      "C D E F \n",
      "D E F G \n"
     ]
    }
   ],
   "source": [
    "n = int(input())\n",
    "\n",
    "i = 1\n",
    "while i <= n:\n",
    "    start_char = chr(ord(\"A\")+ i-1)\n",
    "    j = 1\n",
    "    while j <= n:\n",
    "        print(chr(ord(start_char)+j-1),end=\" \")\n",
    "        j = j + 1\n",
    "    print()\n",
    "    i = i + 1"
   ]
  },
  {
   "cell_type": "code",
   "execution_count": 37,
   "id": "ed71dde4",
   "metadata": {},
   "outputs": [
    {
     "name": "stdout",
     "output_type": "stream",
     "text": [
      "4\n",
      "1\n",
      "1 1\n",
      "2 0 2\n",
      "3 0 0 3\n"
     ]
    }
   ],
   "source": [
    "n = int(input())\n",
    "\n",
    "i = 1\n",
    "print(\"1\")\n",
    "while i <= n-1:\n",
    "    print(i,end=\" \")\n",
    "    j = 2\n",
    "    while j <= i:\n",
    "        print(\"0\",end=\" \")\n",
    "        j = j +1 \n",
    "        \n",
    "    print(i)\n",
    "    i = i + 1\n",
    "    \n",
    "    "
   ]
  },
  {
   "cell_type": "code",
   "execution_count": 2,
   "id": "68c7cb92",
   "metadata": {},
   "outputs": [
    {
     "name": "stdout",
     "output_type": "stream",
     "text": [
      "4\n",
      "1 2 3 4 \n",
      "1 2 3 \n",
      "1 2 \n",
      "1 \n"
     ]
    }
   ],
   "source": [
    "n = int(input())\n",
    "\n",
    "i = 1\n",
    "while i <= n:\n",
    "    j = 1\n",
    "    while j <= (n-i+1):\n",
    "        print(j,end = \" \")\n",
    "        j = j + 1\n",
    "    print()\n",
    "    i = i + 1\n",
    "    "
   ]
  },
  {
   "cell_type": "code",
   "execution_count": 5,
   "id": "32dc660d",
   "metadata": {},
   "outputs": [
    {
     "name": "stdout",
     "output_type": "stream",
     "text": [
      "4\n",
      "* * * * \n",
      "* * * \n",
      "* * \n",
      "* \n"
     ]
    }
   ],
   "source": [
    "n = int(input())\n",
    "\n",
    "i = 1\n",
    "\n",
    "while i <=n:\n",
    "    j = 1\n",
    "    while j <= (n-i+1):\n",
    "        print(\"*\",end=\" \")\n",
    "        j = j + 1\n",
    "    print()\n",
    "    i = i +1"
   ]
  },
  {
   "cell_type": "code",
   "execution_count": 6,
   "id": "8da4fc68",
   "metadata": {},
   "outputs": [
    {
     "name": "stdout",
     "output_type": "stream",
     "text": [
      "4\n",
      "_ _ _ * \n",
      "_ _ * * \n",
      "_ * * * \n",
      "* * * * \n"
     ]
    }
   ],
   "source": [
    "n = int(input())\n",
    "\n",
    "i = 1\n",
    "while i <= n:\n",
    "    \n",
    "    gaps = 1\n",
    "    while gaps <= n-i:\n",
    "        print(\"_\",end=\" \")\n",
    "        gaps = gaps + 1\n",
    "        \n",
    "    star = 1\n",
    "    while star <= i:\n",
    "        print(\"*\",end=\" \")\n",
    "        star = star + 1\n",
    "    print()\n",
    "    i = i + 1"
   ]
  },
  {
   "cell_type": "code",
   "execution_count": 8,
   "id": "2afb5d0c",
   "metadata": {},
   "outputs": [
    {
     "name": "stdout",
     "output_type": "stream",
     "text": [
      "4\n",
      "_ _ _ 1 \n",
      "_ _ 1 2 \n",
      "_ 1 2 3 \n",
      "1 2 3 4 \n"
     ]
    }
   ],
   "source": [
    "n = int(input())\n",
    "\n",
    "i = 1\n",
    "while i <= n:\n",
    "    gaps = 1\n",
    "    while gaps <= n-i:\n",
    "        print(\"_\",end=\" \")\n",
    "        gaps = gaps + 1\n",
    "        \n",
    "    words = 1\n",
    "    while words <= i:\n",
    "        print(words,end=\" \")\n",
    "        words = words + 1\n",
    "        \n",
    "    print()\n",
    "    i = i + 1"
   ]
  },
  {
   "cell_type": "markdown",
   "id": "b3ce779d",
   "metadata": {},
   "source": [
    "### Isosceles Pattern"
   ]
  },
  {
   "cell_type": "code",
   "execution_count": 9,
   "id": "6a1cbe88",
   "metadata": {},
   "outputs": [
    {
     "name": "stdout",
     "output_type": "stream",
     "text": [
      "4\n",
      "_ _ _ 1 \n",
      "_ _ 1 2 1 \n",
      "_ 1 2 3 2 1 \n",
      "1 2 3 4 3 2 1 \n"
     ]
    }
   ],
   "source": [
    "n = int(input())\n",
    "\n",
    "i = 1\n",
    "while i <= n:\n",
    "    \n",
    "    gap = 1\n",
    "    while gap <= (n-i):\n",
    "        \n",
    "        print(\"_\",end=\" \")\n",
    "        gap = gap + 1\n",
    "        \n",
    "    p = 1\n",
    "    j = 1\n",
    "    while j <= i:\n",
    "        print(p,end=\" \")\n",
    "        p = p + 1\n",
    "        j = j + 1\n",
    "        \n",
    "    p = i-1\n",
    "    while p >= 1:\n",
    "        print(p,end=\" \")\n",
    "        p = p -1\n",
    "        \n",
    "    print()\n",
    "    i = i + 1\n",
    "    "
   ]
  },
  {
   "cell_type": "code",
   "execution_count": 10,
   "id": "34cd0467",
   "metadata": {},
   "outputs": [
    {
     "name": "stdout",
     "output_type": "stream",
     "text": [
      "4\n",
      "_ _ _ 1 \n",
      "_ _ 2 3 2 \n",
      "_ 3 4 5 4 3 \n",
      "4 5 6 7 6 5 4 \n"
     ]
    }
   ],
   "source": [
    "n = int(input())\n",
    "\n",
    "i = 1\n",
    "while i <= n:\n",
    "    gap = 1\n",
    "    while gap <= (n-i):\n",
    "        print(\"_\",end=\" \")\n",
    "        gap = gap + 1\n",
    "        \n",
    "    p = 1\n",
    "    j = 1\n",
    "    while j <= i:\n",
    "        print(i+j-1,end=\" \")\n",
    "        j = j + 1\n",
    "        p = p + 1\n",
    "    p = i - 1\n",
    "    \n",
    "    while p >= 1:\n",
    "        print(i+p-1,end=\" \")\n",
    "        p = p - 1\n",
    "        \n",
    "    print()\n",
    "    i = i + 1\n"
   ]
  },
  {
   "cell_type": "code",
   "execution_count": 21,
   "id": "782f5dc7",
   "metadata": {},
   "outputs": [
    {
     "name": "stdout",
     "output_type": "stream",
     "text": [
      "7\n",
      "      * \n",
      "    * * * \n",
      "  * * * * * \n",
      "* * * * * * * \n",
      "  * * * * * \n",
      "    * * * \n",
      "      * \n"
     ]
    }
   ],
   "source": [
    "n = int(input())\n",
    "\n",
    "firsthalf = (n+1)//2\n",
    "secondhalf = n//2\n",
    "\n",
    "#first half code\n",
    "i = 1\n",
    "while i <= firsthalf:\n",
    "    gaps = 1\n",
    "    while gaps <= firsthalf-i:\n",
    "        print(\" \",end=\" \")\n",
    "        gaps = gaps + 1\n",
    "        \n",
    "    j = 1\n",
    "    while j <= i:\n",
    "        print(\"*\",end=\" \")\n",
    "        j = j + 1\n",
    "        \n",
    "    j = i\n",
    "    while j > 1:\n",
    "        print(\"*\",end=\" \")\n",
    "        j = j - 1\n",
    "        \n",
    "    print()\n",
    "    i = i + 1\n",
    "    \n",
    "i = secondhalf\n",
    "while i >= 1:\n",
    "    gaps = 1\n",
    "    while gaps <= (secondhalf-i+1):\n",
    "        print(\" \",end=\" \")\n",
    "        gaps = gaps + 1\n",
    "        \n",
    "    j = 1\n",
    "    while j <= 2*i-1:\n",
    "        print(\"*\",end=\" \")\n",
    "        j = j + 1\n",
    "    print()    \n",
    "    i = i -1 "
   ]
  },
  {
   "cell_type": "code",
   "execution_count": null,
   "id": "b3d7dc96",
   "metadata": {},
   "outputs": [],
   "source": []
  },
  {
   "cell_type": "code",
   "execution_count": null,
   "id": "814411ec",
   "metadata": {},
   "outputs": [],
   "source": []
  }
 ],
 "metadata": {
  "kernelspec": {
   "display_name": "Python 3 (ipykernel)",
   "language": "python",
   "name": "python3"
  },
  "language_info": {
   "codemirror_mode": {
    "name": "ipython",
    "version": 3
   },
   "file_extension": ".py",
   "mimetype": "text/x-python",
   "name": "python",
   "nbconvert_exporter": "python",
   "pygments_lexer": "ipython3",
   "version": "3.9.12"
  }
 },
 "nbformat": 4,
 "nbformat_minor": 5
}
