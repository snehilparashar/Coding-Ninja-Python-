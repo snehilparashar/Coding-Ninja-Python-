{
 "cells": [
  {
   "cell_type": "markdown",
   "id": "5fff6910",
   "metadata": {},
   "source": [
    "### Check Number\n"
   ]
  },
  {
   "cell_type": "code",
   "execution_count": 4,
   "id": "fb0e5714",
   "metadata": {},
   "outputs": [
    {
     "name": "stdout",
     "output_type": "stream",
     "text": [
      "-1\n",
      "Negative\n"
     ]
    }
   ],
   "source": [
    "n = int(input())\n",
    "\n",
    "if n > 0:\n",
    "    print(\"Positive\")\n",
    "elif n == 0:\n",
    "    print(\"Zero\")\n",
    "else:\n",
    "    print(\"Negative\")\n",
    "    "
   ]
  },
  {
   "cell_type": "code",
   "execution_count": 7,
   "id": "28a5ea58",
   "metadata": {},
   "outputs": [],
   "source": [
    "def sumofnumberton(n):\n",
    "    \n",
    "    sum = 0 \n",
    "    \n",
    "    for i in range(1,n+1):\n",
    "        sum = sum + i\n",
    "        \n",
    "    return sum"
   ]
  },
  {
   "cell_type": "code",
   "execution_count": 8,
   "id": "e1d148e2",
   "metadata": {},
   "outputs": [
    {
     "name": "stdout",
     "output_type": "stream",
     "text": [
      "10\n"
     ]
    },
    {
     "data": {
      "text/plain": [
       "55"
      ]
     },
     "execution_count": 8,
     "metadata": {},
     "output_type": "execute_result"
    }
   ],
   "source": [
    "n = int(input())\n",
    "sumofnumberton(n)"
   ]
  },
  {
   "cell_type": "code",
   "execution_count": 9,
   "id": "b6b74b66",
   "metadata": {},
   "outputs": [],
   "source": [
    "def sumofevenupton(n):\n",
    "    \n",
    "    sum_even = 0\n",
    "    for i in range(1,n+1):\n",
    "        if i % 2 == 0:\n",
    "            sum_even = sum_even + i\n",
    "            \n",
    "    return sum_even"
   ]
  },
  {
   "cell_type": "code",
   "execution_count": 11,
   "id": "48305fbe",
   "metadata": {},
   "outputs": [
    {
     "name": "stdout",
     "output_type": "stream",
     "text": [
      "6\n"
     ]
    },
    {
     "data": {
      "text/plain": [
       "12"
      ]
     },
     "execution_count": 11,
     "metadata": {},
     "output_type": "execute_result"
    }
   ],
   "source": [
    "n = int(input())\n",
    "sumofevenupton(n)"
   ]
  },
  {
   "cell_type": "markdown",
   "id": "62088dbe",
   "metadata": {},
   "source": [
    "### Calculator"
   ]
  },
  {
   "cell_type": "code",
   "execution_count": 1,
   "id": "2ac79322",
   "metadata": {},
   "outputs": [
    {
     "name": "stdout",
     "output_type": "stream",
     "text": [
      "7\n",
      "Invalid Operation\n"
     ]
    }
   ],
   "source": [
    "while True:\n",
    "    n = int(input())\n",
    "    if n == 1:\n",
    "        n1 = int(input())\n",
    "        n2 = int(input())\n",
    "        print(int(n1+n2))\n",
    "    elif n == 2:\n",
    "        n1 = int(input())\n",
    "        n2 = int(input())\n",
    "        print(int(n1-n2))\n",
    "    elif n == 3:\n",
    "        n1 = int(input())\n",
    "        n2 = int(input())\n",
    "        print(int(n1*n2))\n",
    "    elif n == 4:\n",
    "        n1 = int(input())\n",
    "        n2 = int(input())\n",
    "        print(int(n1/n2))\n",
    "    elif n == 5:\n",
    "        n1 = int(input())\n",
    "        n2 = int(input())\n",
    "        print(int(n1//n2))\n",
    "    elif n == 6:\n",
    "        exit()\n",
    "    else:\n",
    "        print(\"Invalid Operation\")\n",
    "        break"
   ]
  },
  {
   "cell_type": "markdown",
   "id": "9dd4eab3",
   "metadata": {},
   "source": [
    "### Reverse of a number"
   ]
  },
  {
   "cell_type": "code",
   "execution_count": 2,
   "id": "e9b89064",
   "metadata": {},
   "outputs": [],
   "source": [
    "def reverseofnumber(num):\n",
    "    \n",
    "    reverse = 0\n",
    "    \n",
    "    while num > 0:\n",
    "        \n",
    "        remainder = num % 10\n",
    "        \n",
    "        reverse = reverse*10 + remainder\n",
    "        \n",
    "        num = num // 10\n",
    "        \n",
    "    return reverse"
   ]
  },
  {
   "cell_type": "code",
   "execution_count": 3,
   "id": "7350833d",
   "metadata": {},
   "outputs": [
    {
     "name": "stdout",
     "output_type": "stream",
     "text": [
      "1234\n"
     ]
    },
    {
     "data": {
      "text/plain": [
       "4321"
      ]
     },
     "execution_count": 3,
     "metadata": {},
     "output_type": "execute_result"
    }
   ],
   "source": [
    "n = int(input())\n",
    "reverseofnumber(n)"
   ]
  },
  {
   "cell_type": "markdown",
   "id": "15489d9a",
   "metadata": {},
   "source": [
    "### Palindrom number"
   ]
  },
  {
   "cell_type": "code",
   "execution_count": 7,
   "id": "8659966e",
   "metadata": {},
   "outputs": [],
   "source": [
    "def checkpalindrom(num):\n",
    "    \n",
    "    temp = num \n",
    "    reverse = 0\n",
    "    \n",
    "    while temp > 0:\n",
    "        \n",
    "        remainder = temp % 10\n",
    "        \n",
    "        reverse = reverse*10 + remainder\n",
    "        \n",
    "        temp = temp // 10\n",
    "        \n",
    "    if reverse == num:\n",
    "        return True\n",
    "    else:\n",
    "        return False\n",
    "    "
   ]
  },
  {
   "cell_type": "code",
   "execution_count": 8,
   "id": "4930eeeb",
   "metadata": {},
   "outputs": [
    {
     "name": "stdout",
     "output_type": "stream",
     "text": [
      "121\n",
      "true\n"
     ]
    }
   ],
   "source": [
    "n = int(input())\n",
    "ispalindrome = checkpalindrom(n)\n",
    "\n",
    "if ispalindrome:\n",
    "    print('true')\n",
    "else:\n",
    "    print('false')"
   ]
  },
  {
   "cell_type": "markdown",
   "id": "c0cd885d",
   "metadata": {},
   "source": [
    "### Sum of odd and even digits"
   ]
  },
  {
   "cell_type": "code",
   "execution_count": 11,
   "id": "d4b85bba",
   "metadata": {},
   "outputs": [],
   "source": [
    "def sumofevenodddigits(num):\n",
    "    \n",
    "    sum_even = 0\n",
    "    sum_odd = 0\n",
    "    \n",
    "    while num > 0:\n",
    "        digit = num % 10\n",
    "        \n",
    "        if digit % 2 == 0:\n",
    "            sum_even = sum_even + digit\n",
    "            \n",
    "        else:\n",
    "            sum_odd = sum_odd + digit\n",
    "            \n",
    "        num = num // 10\n",
    "            \n",
    "    return sum_even,sum_odd"
   ]
  },
  {
   "cell_type": "code",
   "execution_count": 13,
   "id": "2134588d",
   "metadata": {},
   "outputs": [
    {
     "name": "stdout",
     "output_type": "stream",
     "text": [
      "1122\n"
     ]
    },
    {
     "data": {
      "text/plain": [
       "(4, 2)"
      ]
     },
     "execution_count": 13,
     "metadata": {},
     "output_type": "execute_result"
    }
   ],
   "source": [
    "n = int(input())\n",
    "sumofevenodddigits(n)"
   ]
  },
  {
   "cell_type": "markdown",
   "id": "dab8e8f2",
   "metadata": {},
   "source": [
    "### Nth Fibonacci Number"
   ]
  },
  {
   "cell_type": "code",
   "execution_count": 19,
   "id": "e155abd6",
   "metadata": {},
   "outputs": [],
   "source": [
    "def printnthfibonaccinumber(n):\n",
    "    \n",
    "    n1 = 0\n",
    "    n2 = 1\n",
    "    \n",
    "    count = 0\n",
    "    \n",
    "    if n == 0:\n",
    "        print(\"1\")\n",
    "        \n",
    "    else:\n",
    "        while count < n:\n",
    "            next_n = n1 + n2\n",
    "            n1 = n2\n",
    "            n2 = next_n\n",
    "            \n",
    "            count = count + 1\n",
    "            \n",
    "        print(n1)"
   ]
  },
  {
   "cell_type": "code",
   "execution_count": 20,
   "id": "151493d6",
   "metadata": {},
   "outputs": [
    {
     "name": "stdout",
     "output_type": "stream",
     "text": [
      "3\n",
      "2\n"
     ]
    }
   ],
   "source": [
    "n = int(input())\n",
    "printnthfibonaccinumber(n)"
   ]
  },
  {
   "cell_type": "code",
   "execution_count": null,
   "id": "b9e0194a",
   "metadata": {},
   "outputs": [],
   "source": []
  }
 ],
 "metadata": {
  "kernelspec": {
   "display_name": "Python 3 (ipykernel)",
   "language": "python",
   "name": "python3"
  },
  "language_info": {
   "codemirror_mode": {
    "name": "ipython",
    "version": 3
   },
   "file_extension": ".py",
   "mimetype": "text/x-python",
   "name": "python",
   "nbconvert_exporter": "python",
   "pygments_lexer": "ipython3",
   "version": "3.9.12"
  }
 },
 "nbformat": 4,
 "nbformat_minor": 5
}
