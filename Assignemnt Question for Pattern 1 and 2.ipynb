{
 "cells": [
  {
   "cell_type": "markdown",
   "id": "9d3a4707",
   "metadata": {},
   "source": [
    "### Pattern 1 Question"
   ]
  },
  {
   "cell_type": "raw",
   "id": "d598ec93",
   "metadata": {},
   "source": [
    "4444\n",
    "4444\n",
    "4444\n",
    "4444"
   ]
  },
  {
   "cell_type": "code",
   "execution_count": 2,
   "id": "b369f0c9",
   "metadata": {},
   "outputs": [
    {
     "name": "stdout",
     "output_type": "stream",
     "text": [
      "4\n",
      "4444\n",
      "4444\n",
      "4444\n",
      "4444\n"
     ]
    }
   ],
   "source": [
    "n = int(input())\n",
    "\n",
    "i = 1\n",
    "while i <= n:\n",
    "    j = 1\n",
    "    while j <= n:\n",
    "        print(n,end=\"\")\n",
    "        j = j + 1\n",
    "    print()\n",
    "    i = i + 1"
   ]
  },
  {
   "cell_type": "raw",
   "id": "70793ab2",
   "metadata": {},
   "source": [
    "*\n",
    "**\n",
    "***\n",
    "****"
   ]
  },
  {
   "cell_type": "code",
   "execution_count": 3,
   "id": "d10e34bd",
   "metadata": {},
   "outputs": [
    {
     "name": "stdout",
     "output_type": "stream",
     "text": [
      "4\n",
      "*\n",
      "**\n",
      "***\n",
      "****\n"
     ]
    }
   ],
   "source": [
    "n = int(input())\n",
    "\n",
    "i = 1\n",
    "while i <= n:\n",
    "    j = 1\n",
    "    while j <= i:\n",
    "        print(\"*\",end=\"\")\n",
    "        j = j + 1\n",
    "    print()\n",
    "    i = i + 1"
   ]
  },
  {
   "cell_type": "raw",
   "id": "74db7a09",
   "metadata": {},
   "source": [
    "1\n",
    "22\n",
    "333\n",
    "4444"
   ]
  },
  {
   "cell_type": "code",
   "execution_count": 4,
   "id": "f4e90850",
   "metadata": {},
   "outputs": [
    {
     "name": "stdout",
     "output_type": "stream",
     "text": [
      "4\n",
      "1\n",
      "22\n",
      "333\n",
      "4444\n"
     ]
    }
   ],
   "source": [
    "n = int(input())\n",
    "\n",
    "i = 1\n",
    "while i <= n:\n",
    "    j = 1\n",
    "    while j <= i:\n",
    "        print(i,end=\"\")\n",
    "        j = j + 1\n",
    "    print()\n",
    "    i = i + 1\n",
    "    "
   ]
  },
  {
   "cell_type": "raw",
   "id": "23ec28c7",
   "metadata": {},
   "source": [
    "1\n",
    "21\n",
    "321\n",
    "4321"
   ]
  },
  {
   "cell_type": "code",
   "execution_count": 5,
   "id": "8dfdeeff",
   "metadata": {},
   "outputs": [
    {
     "name": "stdout",
     "output_type": "stream",
     "text": [
      "4\n",
      "1\n",
      "21\n",
      "321\n",
      "4321\n"
     ]
    }
   ],
   "source": [
    "n = int(input())\n",
    "\n",
    "i = 1\n",
    "while i <= n:\n",
    "    j = 1\n",
    "    p = i\n",
    "    while j <= i:\n",
    "        print(p,end=\"\")\n",
    "        p = p - 1\n",
    "        j = j + 1\n",
    "    print()\n",
    "    i = i + 1    "
   ]
  },
  {
   "cell_type": "raw",
   "id": "899de32b",
   "metadata": {},
   "source": [
    "A\n",
    "BC\n",
    "CDE\n",
    "DEFG"
   ]
  },
  {
   "cell_type": "code",
   "execution_count": 7,
   "id": "d52fb8c9",
   "metadata": {},
   "outputs": [
    {
     "name": "stdout",
     "output_type": "stream",
     "text": [
      "4\n",
      "A\n",
      "BC\n",
      "CDE\n",
      "DEFG\n"
     ]
    }
   ],
   "source": [
    "n = int(input())\n",
    "\n",
    "i = 1\n",
    "while i <= n:\n",
    "    start_char = chr(ord(\"A\") + i - 1)\n",
    "    j = 1\n",
    "    while j <= i:\n",
    "        print(chr(ord(start_char)+j-1),end=\"\")\n",
    "        j = j + 1\n",
    "    print()\n",
    "    i = i + 1"
   ]
  },
  {
   "cell_type": "raw",
   "id": "de0d267b",
   "metadata": {},
   "source": [
    "E\n",
    "DE\n",
    "CDE\n",
    "BCDE\n",
    "ABCDE"
   ]
  },
  {
   "cell_type": "code",
   "execution_count": 8,
   "id": "a227d475",
   "metadata": {},
   "outputs": [
    {
     "name": "stdout",
     "output_type": "stream",
     "text": [
      "5\n",
      "E\n",
      "DE\n",
      "CDE\n",
      "BCDE\n",
      "ABCDE\n"
     ]
    }
   ],
   "source": [
    "n = int(input())\n",
    "\n",
    "i = 1\n",
    "while i <= n:\n",
    "    start_char = chr(ord(\"A\") + n - i)\n",
    "    j = 1\n",
    "    while j <= i:\n",
    "        print(chr(ord(start_char)+j-1),end=\"\")\n",
    "        j = j + 1\n",
    "    print()\n",
    "    i = i + 1\n",
    "        "
   ]
  },
  {
   "cell_type": "raw",
   "id": "eae36a72",
   "metadata": {},
   "source": [
    "1\n",
    "11\n",
    "111\n",
    "1111\n"
   ]
  },
  {
   "cell_type": "code",
   "execution_count": 9,
   "id": "602ead9a",
   "metadata": {},
   "outputs": [
    {
     "name": "stdout",
     "output_type": "stream",
     "text": [
      "4\n",
      "1\n",
      "11\n",
      "111\n",
      "1111\n"
     ]
    }
   ],
   "source": [
    "n = int(input())\n",
    "\n",
    "i = 1\n",
    "while i <= n:\n",
    "    j = 1\n",
    "    while j <= i:\n",
    "        print(\"1\",end=\"\")\n",
    "        j = j + 1\n",
    "    print()\n",
    "    i = i + 1"
   ]
  },
  {
   "cell_type": "raw",
   "id": "e0ea53b8",
   "metadata": {},
   "source": [
    "1\n",
    "11\n",
    "202\n",
    "3003"
   ]
  },
  {
   "cell_type": "code",
   "execution_count": 11,
   "id": "9f95f3d2",
   "metadata": {},
   "outputs": [
    {
     "name": "stdout",
     "output_type": "stream",
     "text": [
      "4\n",
      "1\n",
      "11\n",
      "202\n",
      "3003\n"
     ]
    }
   ],
   "source": [
    "n = int(input())\n",
    "\n",
    "i = 1\n",
    "print(\"1\")\n",
    "\n",
    "while i <= (n-1):\n",
    "    j = 1\n",
    "    print(i,end=\"\")\n",
    "    j = 2\n",
    "    while j <= i:\n",
    "        print(\"0\",end=\"\")\n",
    "        j = j + 1\n",
    "    print(i)\n",
    "    i = i + 1\n"
   ]
  },
  {
   "cell_type": "raw",
   "id": "6250c8ff",
   "metadata": {},
   "source": [
    "1\n",
    "11\n",
    "121\n",
    "1221"
   ]
  },
  {
   "cell_type": "code",
   "execution_count": 13,
   "id": "a0168bca",
   "metadata": {},
   "outputs": [
    {
     "name": "stdout",
     "output_type": "stream",
     "text": [
      "3\n",
      "1\n",
      "11\n",
      "121\n",
      "1221\n"
     ]
    }
   ],
   "source": [
    "n = int(input())\n",
    "\n",
    "i = 1\n",
    "print(\"1\")\n",
    "\n",
    "while i <= n:\n",
    "    j = 1\n",
    "    print(\"1\",end=\"\")\n",
    "    j = 2\n",
    "    while j <= i:\n",
    "        print(\"2\",end=\"\")\n",
    "        j = j + 1\n",
    "    print(\"1\")\n",
    "    i = i + 1\n",
    "\n"
   ]
  },
  {
   "cell_type": "raw",
   "id": "81718a8b",
   "metadata": {},
   "source": [
    "1234\n",
    "123\n",
    "12\n",
    "1"
   ]
  },
  {
   "cell_type": "code",
   "execution_count": 16,
   "id": "970f3f23",
   "metadata": {},
   "outputs": [
    {
     "name": "stdout",
     "output_type": "stream",
     "text": [
      "4\n",
      "1234\n",
      "123\n",
      "12\n",
      "1\n"
     ]
    }
   ],
   "source": [
    "n = int(input())\n",
    "\n",
    "i = 1\n",
    "while i <= n:\n",
    "    j = 1\n",
    "    while j <= (n-i+1):\n",
    "        print(j,end=\"\")\n",
    "        j = j + 1\n",
    "    print()\n",
    "    i = i + 1\n",
    "    "
   ]
  },
  {
   "cell_type": "raw",
   "id": "a90d91e6",
   "metadata": {},
   "source": [
    " A\n",
    " BB\n",
    " CCC"
   ]
  },
  {
   "cell_type": "code",
   "execution_count": 18,
   "id": "b50208ae",
   "metadata": {},
   "outputs": [
    {
     "name": "stdout",
     "output_type": "stream",
     "text": [
      "4\n",
      "A\n",
      "BB\n",
      "CCC\n",
      "DDDD\n"
     ]
    }
   ],
   "source": [
    "n = int(input())\n",
    "\n",
    "i = 1\n",
    "while i <= n:\n",
    "    start_char = chr(ord(\"A\")+i-1)\n",
    "    j = 1\n",
    "    while j <= i:\n",
    "        print(chr(ord(start_char)),end=\"\")\n",
    "        j = j + 1\n",
    "    print()\n",
    "    i = i + 1\n",
    "        "
   ]
  },
  {
   "cell_type": "markdown",
   "id": "1a7b1e70",
   "metadata": {},
   "source": [
    "### Pattern 2 Question"
   ]
  },
  {
   "cell_type": "raw",
   "id": "add6a414",
   "metadata": {},
   "source": [
    "4444\n",
    "333\n",
    "22\n",
    "1"
   ]
  },
  {
   "cell_type": "code",
   "execution_count": 21,
   "id": "1508a4b2",
   "metadata": {},
   "outputs": [
    {
     "name": "stdout",
     "output_type": "stream",
     "text": [
      "4\n",
      "4444\n",
      "333\n",
      "22\n",
      "1\n"
     ]
    }
   ],
   "source": [
    "n = int(input())\n",
    "\n",
    "i = 1\n",
    "while i <= (n):\n",
    "    \n",
    "    j = 1\n",
    "    while j <= (n-i+1):\n",
    "        print(n-i+1,end=\"\")\n",
    "        j = j + 1\n",
    "        \n",
    "    print()\n",
    "    i = i + 1"
   ]
  },
  {
   "cell_type": "raw",
   "id": "593b4326",
   "metadata": {},
   "source": [
    "   1\n",
    "  12\n",
    " 123\n",
    "1234\n"
   ]
  },
  {
   "cell_type": "code",
   "execution_count": 22,
   "id": "494d8a47",
   "metadata": {},
   "outputs": [
    {
     "name": "stdout",
     "output_type": "stream",
     "text": [
      "4\n",
      "   1\n",
      "  12\n",
      " 123\n",
      "1234\n"
     ]
    }
   ],
   "source": [
    "n = int(input())\n",
    "\n",
    "i = 1\n",
    "while i <= n:\n",
    "    gaps = 1\n",
    "    while gaps <= (n-i):\n",
    "        print(\" \",end=\"\")\n",
    "        gaps = gaps + 1\n",
    "        \n",
    "    j = 1\n",
    "    p = 1\n",
    "    while j <= i:\n",
    "        print(p,end=\"\")\n",
    "        p = p + 1\n",
    "        j = j + 1\n",
    "    print()\n",
    "    i = i + 1"
   ]
  },
  {
   "cell_type": "raw",
   "id": "f6a6c750",
   "metadata": {},
   "source": [
    "    *\n",
    "   *** \n",
    "  *****\n",
    " *******"
   ]
  },
  {
   "cell_type": "code",
   "execution_count": 28,
   "id": "e15b6568",
   "metadata": {},
   "outputs": [
    {
     "name": "stdout",
     "output_type": "stream",
     "text": [
      "4\n",
      "   *\n",
      "  ***\n",
      " *****\n",
      "*******\n"
     ]
    }
   ],
   "source": [
    "n = int(input())\n",
    "\n",
    "i = 1\n",
    "while i <= n:\n",
    "    gaps = 1\n",
    "    while gaps <= (n-i):\n",
    "        print(\" \",end=\"\")\n",
    "        gaps = gaps + 1\n",
    "        \n",
    "    j = 1\n",
    "    while j <= i:\n",
    "        print(\"*\",end=\"\")\n",
    "        j = j + 1\n",
    "    j = 1\n",
    "    while j <= i-1:\n",
    "        print(\"*\",end=\"\")\n",
    "        j = j + 1\n",
    "    print()\n",
    "    i = i + 1"
   ]
  },
  {
   "cell_type": "raw",
   "id": "5a7b410e",
   "metadata": {},
   "source": [
    "      1\n",
    "     232\n",
    "    34543\n",
    "   4567654\n",
    "  567898765"
   ]
  },
  {
   "cell_type": "code",
   "execution_count": 34,
   "id": "d055540e",
   "metadata": {},
   "outputs": [
    {
     "name": "stdout",
     "output_type": "stream",
     "text": [
      "5\n",
      "    1\n",
      "   232\n",
      "  34543\n",
      " 4567654\n",
      "567898765\n"
     ]
    }
   ],
   "source": [
    "n = int(input())\n",
    "\n",
    "i = 1\n",
    "while i <= n:\n",
    "    \n",
    "    gaps = 1\n",
    "    while gaps <= (n-i):\n",
    "        print(\" \",end=\"\")\n",
    "        gaps = gaps + 1\n",
    "        \n",
    "    j = 1\n",
    "    p = i\n",
    "    while j <= i:\n",
    "        print(p,end=\"\")\n",
    "        p = p + 1\n",
    "        j = j + 1\n",
    "    p = 2*i-2\n",
    "    j = 2\n",
    "    while j <= i:\n",
    "        print(p,end=\"\")\n",
    "        p = p - 1\n",
    "        j = j + 1\n",
    "    print()\n",
    "    i = i + 1\n",
    "    "
   ]
  },
  {
   "cell_type": "raw",
   "id": "260b2e11",
   "metadata": {},
   "source": [
    "  *\n",
    " ***\n",
    "*****\n",
    " ***\n",
    "  *"
   ]
  },
  {
   "cell_type": "code",
   "execution_count": 42,
   "id": "6172bc90",
   "metadata": {},
   "outputs": [
    {
     "name": "stdout",
     "output_type": "stream",
     "text": [
      "7\n",
      "   *\n",
      "  ***\n",
      " *****\n",
      "*******\n",
      " *****\n",
      "  ***\n",
      "   *\n"
     ]
    }
   ],
   "source": [
    "n = int(input())\n",
    "\n",
    "firsthalf = (n+1)//2\n",
    "secondhalf = n//2\n",
    "\n",
    "#code for first half\n",
    "i = 1\n",
    "\n",
    "while i <= firsthalf:\n",
    "    gaps = 1\n",
    "    while gaps <= (firsthalf-i):\n",
    "        print(\" \",end=\"\")\n",
    "        gaps = gaps + 1\n",
    "        \n",
    "    j = 1\n",
    "    while j <= i:\n",
    "        print(\"*\",end=\"\")\n",
    "        j = j + 1\n",
    "        \n",
    "    j = 1\n",
    "    while j <= i-1:\n",
    "        print(\"*\",end=\"\")\n",
    "        j = j + 1\n",
    "        \n",
    "    print()\n",
    "    i = i + 1\n",
    "    \n",
    "i = secondhalf\n",
    "\n",
    "while i >= 1:\n",
    "    gaps = 1\n",
    "    while gaps <= (secondhalf - i + 1):\n",
    "        print(\" \",end=\"\")\n",
    "        gaps = gaps + 1\n",
    "    j = 1\n",
    "    while j <= (2*i-1):\n",
    "        print(\"*\",end=\"\")\n",
    "        j = j + 1\n",
    "    print()\n",
    "    i = i - 1\n",
    "    "
   ]
  },
  {
   "cell_type": "code",
   "execution_count": 47,
   "id": "e58f768c",
   "metadata": {},
   "outputs": [
    {
     "name": "stdout",
     "output_type": "stream",
     "text": [
      "6\n",
      "1          1\n",
      "12        21\n",
      "123      321\n",
      "1234    4321\n",
      "12345  54321\n",
      "123456654321\n"
     ]
    }
   ],
   "source": [
    "n = int(input())\n",
    "\n",
    "i = 1\n",
    "while i <= n:\n",
    "    j = 1\n",
    "    while j <= i:\n",
    "        print(j,end=\"\")\n",
    "        j = j + 1\n",
    "        \n",
    "    gaps = 1\n",
    "    while gaps <= (2*(n-i)):\n",
    "        print(\" \",end=\"\")\n",
    "        gaps = gaps + 1\n",
    "    j = 1\n",
    "    p = i\n",
    "    while j <= i:\n",
    "        print(p,end=\"\")\n",
    "        p = p - 1\n",
    "        j = j + 1\n",
    "    print()\n",
    "    i = i + 1"
   ]
  },
  {
   "cell_type": "raw",
   "id": "76aa2214",
   "metadata": {},
   "source": [
    "*0000*0000*\n",
    "0*000*000*0\n",
    "00*00*00*00\n",
    "000*0*0*000\n",
    "0000***0000"
   ]
  },
  {
   "cell_type": "code",
   "execution_count": 48,
   "id": "b40f31d6",
   "metadata": {},
   "outputs": [
    {
     "name": "stdout",
     "output_type": "stream",
     "text": [
      "5\n",
      "*0000*0000*\n",
      "0*000*000*0\n",
      "00*00*00*00\n",
      "000*0*0*000\n",
      "0000***0000\n"
     ]
    }
   ],
   "source": [
    "n = int(input())\n",
    "\n",
    "i = 1\n",
    "rows = (2*n)+1\n",
    "while i <= n:\n",
    "    j = 1\n",
    "    while j <= rows:\n",
    "        if ( j == i or j == rows//2 + 1 or j == rows - i + 1):\n",
    "            print(\"*\",end=\"\")\n",
    "        else:\n",
    "            print(\"0\",end=\"\")\n",
    "        j = j + 1\n",
    "    print()\n",
    "    i = i + 1"
   ]
  },
  {
   "cell_type": "raw",
   "id": "bc35b124",
   "metadata": {},
   "source": [
    "    1\n",
    "   212\n",
    "  32123\n",
    " 4321234\n",
    "543212345"
   ]
  },
  {
   "cell_type": "code",
   "execution_count": 54,
   "id": "ec605479",
   "metadata": {},
   "outputs": [
    {
     "name": "stdout",
     "output_type": "stream",
     "text": [
      "5\n",
      "____1\n",
      "___212\n",
      "__32123\n",
      "_4321234\n",
      "543212345\n"
     ]
    }
   ],
   "source": [
    "n = int(input())\n",
    "\n",
    "i = 1\n",
    "while i <= n:\n",
    "    \n",
    "    gaps = 1\n",
    "    while gaps <= (n-i):\n",
    "        print(\"_\",end=\"\")\n",
    "        gaps = gaps + 1\n",
    "    \n",
    "    p = i    \n",
    "    j = 1\n",
    "    \n",
    "    while j <= i:\n",
    "        print(p,end=\"\")\n",
    "        p = p - 1\n",
    "        j = j + 1\n",
    "    p = i-1\n",
    "    j = 2\n",
    "    while j <= i:\n",
    "        print(j,end=\"\")\n",
    "        p = p + 1\n",
    "        j = j + 1\n",
    "        \n",
    "    print()\n",
    "    i = i + 1"
   ]
  },
  {
   "cell_type": "code",
   "execution_count": null,
   "id": "848b2a5a",
   "metadata": {},
   "outputs": [],
   "source": []
  }
 ],
 "metadata": {
  "kernelspec": {
   "display_name": "Python 3 (ipykernel)",
   "language": "python",
   "name": "python3"
  },
  "language_info": {
   "codemirror_mode": {
    "name": "ipython",
    "version": 3
   },
   "file_extension": ".py",
   "mimetype": "text/x-python",
   "name": "python",
   "nbconvert_exporter": "python",
   "pygments_lexer": "ipython3",
   "version": "3.9.12"
  }
 },
 "nbformat": 4,
 "nbformat_minor": 5
}
