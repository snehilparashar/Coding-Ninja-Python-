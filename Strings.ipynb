{
 "cells": [
  {
   "cell_type": "markdown",
   "id": "d0f7052a",
   "metadata": {},
   "source": [
    "### Check Palindrom"
   ]
  },
  {
   "cell_type": "code",
   "execution_count": 2,
   "id": "a43f4c95",
   "metadata": {},
   "outputs": [],
   "source": [
    "def checkpalindrom(string):\n",
    "    \n",
    "    temp = string\n",
    "    \n",
    "    for i in string:\n",
    "        if temp == string[::-1]:\n",
    "        \n",
    "            return True\n",
    "    else:\n",
    "        return False"
   ]
  },
  {
   "cell_type": "code",
   "execution_count": 5,
   "id": "98b7ab41",
   "metadata": {},
   "outputs": [],
   "source": [
    "string = 'nanan'"
   ]
  },
  {
   "cell_type": "code",
   "execution_count": 6,
   "id": "60cfb0d0",
   "metadata": {},
   "outputs": [
    {
     "data": {
      "text/plain": [
       "True"
      ]
     },
     "execution_count": 6,
     "metadata": {},
     "output_type": "execute_result"
    }
   ],
   "source": [
    "checkpalindrom(string)"
   ]
  },
  {
   "cell_type": "markdown",
   "id": "4f469153",
   "metadata": {},
   "source": [
    "### Replace character in string"
   ]
  },
  {
   "cell_type": "code",
   "execution_count": 8,
   "id": "5b8903e3",
   "metadata": {},
   "outputs": [],
   "source": [
    "def replacecharacterinstring(string,char1,char2):\n",
    "    \n",
    "    new_string = \"\"\n",
    "    \n",
    "    for char in string:\n",
    "        if char == char1:\n",
    "            new_string = new_string + char2\n",
    "            \n",
    "        else:\n",
    "            new_string = new_string + char\n",
    "            \n",
    "    return new_string"
   ]
  },
  {
   "cell_type": "code",
   "execution_count": 11,
   "id": "7ec2225b",
   "metadata": {},
   "outputs": [
    {
     "data": {
      "text/plain": [
       "'My name iO Onehil'"
      ]
     },
     "execution_count": 11,
     "metadata": {},
     "output_type": "execute_result"
    }
   ],
   "source": [
    "string1 = \"My name is snehil\"\n",
    "replacecharacterinstring(string1,\"s\",\"O\")"
   ]
  },
  {
   "cell_type": "markdown",
   "id": "abeef01b",
   "metadata": {},
   "source": [
    "### Permumation of String"
   ]
  },
  {
   "cell_type": "raw",
   "id": "4f216293",
   "metadata": {},
   "source": [
    "Two string are said to be permuatition of each other if they can be rearranged to one another"
   ]
  },
  {
   "cell_type": "code",
   "execution_count": 12,
   "id": "f943363a",
   "metadata": {},
   "outputs": [],
   "source": [
    "def checkpermuation(string1,string2):\n",
    "    \n",
    "    n1 = len(string1)\n",
    "    n2 = len(string2)\n",
    "    \n",
    "    if n1 != n2:\n",
    "        return False\n",
    "    elif sorted(string1) == sorted(string2):\n",
    "        return True\n",
    "        "
   ]
  },
  {
   "cell_type": "code",
   "execution_count": 14,
   "id": "264a6f25",
   "metadata": {},
   "outputs": [
    {
     "data": {
      "text/plain": [
       "True"
      ]
     },
     "execution_count": 14,
     "metadata": {},
     "output_type": "execute_result"
    }
   ],
   "source": [
    "string1 = \"string\"\n",
    "string2 = \"stingr\"\n",
    "checkpermuation(string1,string2)"
   ]
  },
  {
   "cell_type": "markdown",
   "id": "b820e85d",
   "metadata": {},
   "source": [
    "### Remove duplicates"
   ]
  },
  {
   "cell_type": "code",
   "execution_count": 1,
   "id": "2879361d",
   "metadata": {},
   "outputs": [],
   "source": [
    "def removeduplicates(string):\n",
    "    \n",
    "    length = len(string)\n",
    "    new_string = \"\"\n",
    "    i = 0\n",
    "    \n",
    "    while i < length:\n",
    "        checkletter = string[i]\n",
    "        \n",
    "        j = i + 1\n",
    "        \n",
    "        while j < length and string[j] == checkletter:\n",
    "            j = j + 1\n",
    "            \n",
    "        new_string = new_string + checkletter\n",
    "        \n",
    "        i = j\n",
    "        \n",
    "    return new_string"
   ]
  },
  {
   "cell_type": "code",
   "execution_count": 2,
   "id": "67dfec76",
   "metadata": {},
   "outputs": [
    {
     "data": {
      "text/plain": [
       "'abced'"
      ]
     },
     "execution_count": 2,
     "metadata": {},
     "output_type": "execute_result"
    }
   ],
   "source": [
    "string3 = \"aaabbbccedd\"\n",
    "removeduplicates(string3)"
   ]
  },
  {
   "cell_type": "markdown",
   "id": "b11233b2",
   "metadata": {},
   "source": [
    "### Remove Character"
   ]
  },
  {
   "cell_type": "code",
   "execution_count": 15,
   "id": "010e4329",
   "metadata": {},
   "outputs": [],
   "source": [
    "def removecharacter(string,char):\n",
    "    new_string = \"\"\n",
    "    \n",
    "    for chara in string:\n",
    "        \n",
    "        if chara == char:\n",
    "            \n",
    "            continue\n",
    "        else:\n",
    "            new_string = new_string + chara\n",
    "            \n",
    "    return new_string\n",
    "            "
   ]
  },
  {
   "cell_type": "code",
   "execution_count": 17,
   "id": "080199ea",
   "metadata": {},
   "outputs": [
    {
     "data": {
      "text/plain": [
       "'adsnfdislf'"
      ]
     },
     "execution_count": 17,
     "metadata": {},
     "output_type": "execute_result"
    }
   ],
   "source": [
    "string4 = \"abdbsnfdislf\"\n",
    "removecharacter(string4,\"b\")"
   ]
  },
  {
   "cell_type": "markdown",
   "id": "c3490693",
   "metadata": {},
   "source": [
    "### Compress String"
   ]
  },
  {
   "cell_type": "code",
   "execution_count": 29,
   "id": "3e1b5761",
   "metadata": {},
   "outputs": [],
   "source": [
    "def compress_string(string):\n",
    "    \n",
    "    i = 0\n",
    "    \n",
    "    new_string = \"\"\n",
    "    \n",
    "    while i < len(string):\n",
    "        \n",
    "        j = i + 1\n",
    "        count = 1\n",
    "        \n",
    "        while j < len(string) and string[i] == string[j]:\n",
    "            \n",
    "            j = j + 1\n",
    "            count = count + 1\n",
    "            \n",
    "        if count == 1:\n",
    "            new_string = new_string + string[i]\n",
    "                \n",
    "        else: \n",
    "            new_string = new_string + string[i] + str(count)\n",
    "        \n",
    "        i = j\n",
    "        \n",
    "    return new_string"
   ]
  },
  {
   "cell_type": "code",
   "execution_count": 30,
   "id": "2b2f636b",
   "metadata": {},
   "outputs": [
    {
     "data": {
      "text/plain": [
       "'a3b3c3d2e3'"
      ]
     },
     "execution_count": 30,
     "metadata": {},
     "output_type": "execute_result"
    }
   ],
   "source": [
    "string6 = \"aaabbbcccddeee\"\n",
    "compress_string(string6)"
   ]
  },
  {
   "cell_type": "markdown",
   "id": "9abcf6a2",
   "metadata": {},
   "source": [
    "### Highest occuring character "
   ]
  },
  {
   "cell_type": "code",
   "execution_count": 31,
   "id": "21fe00fd",
   "metadata": {},
   "outputs": [],
   "source": [
    "#Not solved by me"
   ]
  },
  {
   "cell_type": "code",
   "execution_count": null,
   "id": "38d0ea85",
   "metadata": {},
   "outputs": [],
   "source": [
    "def highestOccuringChar(string):\n",
    "\tASCII_SIZE = 256\n",
    "\tcount = [0] * ASCII_SIZE\n",
    "\tmax = -1\n",
    "\tc = ''\n",
    "\n",
    "\tfor i in string:\n",
    "\t\tcount[ord(i)] += 1\n",
    "\n",
    "\tfor i in string:\n",
    "\t\tif max < count[ord(i)]:\n",
    "\t\t\tmax = count[ord(i)]\n",
    "\t\t\tc = i\n",
    "\n",
    "\treturn c"
   ]
  }
 ],
 "metadata": {
  "kernelspec": {
   "display_name": "Python 3 (ipykernel)",
   "language": "python",
   "name": "python3"
  },
  "language_info": {
   "codemirror_mode": {
    "name": "ipython",
    "version": 3
   },
   "file_extension": ".py",
   "mimetype": "text/x-python",
   "name": "python",
   "nbconvert_exporter": "python",
   "pygments_lexer": "ipython3",
   "version": "3.9.12"
  }
 },
 "nbformat": 4,
 "nbformat_minor": 5
}
