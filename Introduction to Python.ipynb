{
 "cells": [
  {
   "cell_type": "code",
   "execution_count": 1,
   "id": "cc63db89",
   "metadata": {},
   "outputs": [
    {
     "data": {
      "text/plain": [
       "2"
      ]
     },
     "execution_count": 1,
     "metadata": {},
     "output_type": "execute_result"
    }
   ],
   "source": [
    "10//4"
   ]
  },
  {
   "cell_type": "markdown",
   "id": "5b3cfbff",
   "metadata": {},
   "source": [
    "### Division"
   ]
  },
  {
   "cell_type": "code",
   "execution_count": 2,
   "id": "0250e63d",
   "metadata": {},
   "outputs": [
    {
     "data": {
      "text/plain": [
       "2.5"
      ]
     },
     "execution_count": 2,
     "metadata": {},
     "output_type": "execute_result"
    }
   ],
   "source": [
    "10/4"
   ]
  },
  {
   "cell_type": "markdown",
   "id": "fa488fea",
   "metadata": {},
   "source": [
    "### Modulas"
   ]
  },
  {
   "cell_type": "code",
   "execution_count": 4,
   "id": "f31f3cf0",
   "metadata": {},
   "outputs": [
    {
     "data": {
      "text/plain": [
       "1"
      ]
     },
     "execution_count": 4,
     "metadata": {},
     "output_type": "execute_result"
    }
   ],
   "source": [
    "10%3"
   ]
  },
  {
   "cell_type": "markdown",
   "id": "7e6c36cd",
   "metadata": {},
   "source": [
    "### Concatination of integers"
   ]
  },
  {
   "cell_type": "code",
   "execution_count": 7,
   "id": "cbde014c",
   "metadata": {},
   "outputs": [
    {
     "name": "stdout",
     "output_type": "stream",
     "text": [
      "12\n",
      "13\n",
      "1213\n"
     ]
    }
   ],
   "source": [
    "a = input()\n",
    "b = input()\n",
    "sum = a + b\n",
    "print(sum)"
   ]
  },
  {
   "cell_type": "code",
   "execution_count": 8,
   "id": "1eb2dddb",
   "metadata": {},
   "outputs": [
    {
     "data": {
      "text/plain": [
       "str"
      ]
     },
     "execution_count": 8,
     "metadata": {},
     "output_type": "execute_result"
    }
   ],
   "source": [
    "type(a)"
   ]
  },
  {
   "cell_type": "markdown",
   "id": "d074924d",
   "metadata": {},
   "source": [
    "### Addition of Numbers"
   ]
  },
  {
   "cell_type": "code",
   "execution_count": 9,
   "id": "366fee5f",
   "metadata": {},
   "outputs": [
    {
     "name": "stdout",
     "output_type": "stream",
     "text": [
      "12 \n",
      "23\n",
      "35\n"
     ]
    }
   ],
   "source": [
    "a = int(input())\n",
    "b = int(input())\n",
    "sum = a + b\n",
    "print(sum)"
   ]
  },
  {
   "cell_type": "markdown",
   "id": "59eebec8",
   "metadata": {},
   "source": [
    "### If and Else"
   ]
  },
  {
   "cell_type": "code",
   "execution_count": 10,
   "id": "5d5e1478",
   "metadata": {},
   "outputs": [
    {
     "name": "stdout",
     "output_type": "stream",
     "text": [
      "12\n",
      "12\n",
      "the numbers are greater than 10\n"
     ]
    }
   ],
   "source": [
    "a = int(input())\n",
    "b = int(input())\n",
    "if a > 10 and b > 10:\n",
    "    print(\"the numbers are greater than 10\")\n",
    "else:\n",
    "    print(\"Redo\")"
   ]
  },
  {
   "cell_type": "code",
   "execution_count": 15,
   "id": "6554e7d7",
   "metadata": {},
   "outputs": [
    {
     "name": "stdout",
     "output_type": "stream",
     "text": [
      "5\n",
      "blue\n"
     ]
    }
   ],
   "source": [
    "n = int(input())\n",
    "\n",
    "if n > 10:\n",
    "    print(\"red\")\n",
    "elif n <= 10 and n >= 5:\n",
    "    print(\"blue\")\n",
    "else:\n",
    "    print(\"yellow\")"
   ]
  },
  {
   "cell_type": "markdown",
   "id": "d69cf159",
   "metadata": {},
   "source": [
    "### While Loop"
   ]
  },
  {
   "cell_type": "code",
   "execution_count": 18,
   "id": "1c2e6a4c",
   "metadata": {},
   "outputs": [
    {
     "name": "stdout",
     "output_type": "stream",
     "text": [
      "9\n",
      "0 1 2 3 4 5 6 7 8 9 "
     ]
    }
   ],
   "source": [
    "n = int(input())\n",
    "i = 0\n",
    "while i < n+1:\n",
    "    print(i,end=\" \")\n",
    "    i = i + 1"
   ]
  },
  {
   "cell_type": "markdown",
   "id": "3c6d6804",
   "metadata": {},
   "source": [
    "### Print \"1\" 9 times"
   ]
  },
  {
   "cell_type": "code",
   "execution_count": 20,
   "id": "af016e8a",
   "metadata": {},
   "outputs": [
    {
     "name": "stdout",
     "output_type": "stream",
     "text": [
      "10\n",
      "1 1 1 1 1 1 1 1 1 1 "
     ]
    }
   ],
   "source": [
    "n = int(input())\n",
    "i = 1\n",
    "while i <= n:\n",
    "    print(1,end=\" \")\n",
    "    i = i + 1"
   ]
  },
  {
   "cell_type": "markdown",
   "id": "f2422772",
   "metadata": {},
   "source": [
    "### Print the first n naturals number"
   ]
  },
  {
   "cell_type": "code",
   "execution_count": 22,
   "id": "b36f6362",
   "metadata": {},
   "outputs": [
    {
     "name": "stdout",
     "output_type": "stream",
     "text": [
      "10\n",
      "1 2 3 4 5 6 7 8 9 10 "
     ]
    }
   ],
   "source": [
    "n = int(input())\n",
    "\n",
    "i = 1\n",
    "while i <= n:\n",
    "    print(i,end=\" \")\n",
    "    i = i + 1"
   ]
  },
  {
   "cell_type": "markdown",
   "id": "8ca2f6db",
   "metadata": {},
   "source": [
    "### Sum of n numbers"
   ]
  },
  {
   "cell_type": "code",
   "execution_count": 2,
   "id": "17a141f0",
   "metadata": {},
   "outputs": [
    {
     "name": "stdout",
     "output_type": "stream",
     "text": [
      "5\n",
      "15\n"
     ]
    }
   ],
   "source": [
    "n = int(input())\n",
    "\n",
    "count = 1\n",
    "sum = 0\n",
    "\n",
    "while count <= n:\n",
    "    sum = sum + count\n",
    "    count = count + 1\n",
    "    \n",
    "print(sum)"
   ]
  },
  {
   "cell_type": "markdown",
   "id": "9fc2be81",
   "metadata": {},
   "source": [
    "### Sum of even number"
   ]
  },
  {
   "cell_type": "code",
   "execution_count": 3,
   "id": "c77af299",
   "metadata": {},
   "outputs": [
    {
     "name": "stdout",
     "output_type": "stream",
     "text": [
      "5\n",
      "6\n"
     ]
    }
   ],
   "source": [
    "n = int(input())\n",
    "\n",
    "count = 0\n",
    "sum = 0\n",
    "\n",
    "while count <= n:\n",
    "    if count % 2 == 0:\n",
    "        sum = sum + count\n",
    "    count = count + 1\n",
    "    \n",
    "print(sum)"
   ]
  },
  {
   "cell_type": "markdown",
   "id": "9d3e267f",
   "metadata": {},
   "source": [
    "### Prime numbers using while loop"
   ]
  },
  {
   "cell_type": "code",
   "execution_count": 6,
   "id": "4bc3d659",
   "metadata": {},
   "outputs": [
    {
     "name": "stdout",
     "output_type": "stream",
     "text": [
      "7\n",
      "The number is prime\n"
     ]
    }
   ],
   "source": [
    "n = int(input())\n",
    "\n",
    "d = 2\n",
    "flag = False #Here we have assumed that the number is prime\n",
    "while d < n:\n",
    "    if n % d == 0:\n",
    "        flag = True\n",
    "    d = d + 1   \n",
    "if flag is True:\n",
    "    print(\"The number is not prime\")\n",
    "else:\n",
    "    print(\"The number is prime\")"
   ]
  },
  {
   "cell_type": "markdown",
   "id": "56dfddfb",
   "metadata": {},
   "source": [
    "### Priniting all the prime numnber upto n"
   ]
  },
  {
   "cell_type": "code",
   "execution_count": 9,
   "id": "1da7b1c9",
   "metadata": {},
   "outputs": [
    {
     "name": "stdout",
     "output_type": "stream",
     "text": [
      "5\n",
      "2 3 5 "
     ]
    }
   ],
   "source": [
    "n = int(input())\n",
    "\n",
    "k = 2\n",
    "\n",
    "while k <= n:\n",
    "    \n",
    "    d = 2\n",
    "    flag = False\n",
    "    \n",
    "    while d < k:\n",
    "        if k % d == 0:\n",
    "            flag = True\n",
    "            \n",
    "        d = d + 1\n",
    "        \n",
    "    if not(flag):\n",
    "        print(k, end =\" \")\n",
    "    \n",
    "    k = k + 1"
   ]
  },
  {
   "cell_type": "markdown",
   "id": "52d1fef1",
   "metadata": {},
   "source": [
    "### Reverse of a number"
   ]
  },
  {
   "cell_type": "code",
   "execution_count": 11,
   "id": "a4ccec6d",
   "metadata": {},
   "outputs": [
    {
     "name": "stdout",
     "output_type": "stream",
     "text": [
      "1234\n",
      "4321\n"
     ]
    }
   ],
   "source": [
    "n = int(input())\n",
    "\n",
    "reverse = 0\n",
    "\n",
    "while n > 0:\n",
    "    remainder = n % 10\n",
    "    reverse = 10* reverse + remainder\n",
    "    \n",
    "    n = n // 10\n",
    "    \n",
    "print(reverse)\n",
    "    "
   ]
  },
  {
   "cell_type": "markdown",
   "id": "d9f2b586",
   "metadata": {},
   "source": [
    "### Sum of Odd Even of a number"
   ]
  },
  {
   "cell_type": "code",
   "execution_count": 12,
   "id": "16e5a1bf",
   "metadata": {},
   "outputs": [
    {
     "name": "stdout",
     "output_type": "stream",
     "text": [
      "1234\n",
      "6\n",
      "4\n"
     ]
    }
   ],
   "source": [
    "n = int(input())\n",
    "\n",
    "sum_even = 0\n",
    "sum_odd = 0\n",
    "\n",
    "while n > 0:\n",
    "    \n",
    "    remainder = n % 10\n",
    "    \n",
    "    if n % 2 == 0:\n",
    "        sum_even = sum_even + remainder\n",
    "    else:\n",
    "        sum_odd = sum_odd + remainder\n",
    "        \n",
    "    n = n // 10\n",
    "    \n",
    "print(sum_even)\n",
    "print(sum_odd)"
   ]
  },
  {
   "cell_type": "markdown",
   "id": "73a90118",
   "metadata": {},
   "source": [
    "### Fibonacci Series"
   ]
  },
  {
   "cell_type": "code",
   "execution_count": 17,
   "id": "871bb210",
   "metadata": {},
   "outputs": [
    {
     "name": "stdout",
     "output_type": "stream",
     "text": [
      "6\n",
      "0 1 1 2 3 5 "
     ]
    }
   ],
   "source": [
    "n = int(input())\n",
    "\n",
    "n1 = 0\n",
    "n2 = 1\n",
    "count = 0\n",
    "\n",
    "while count < n:\n",
    "    print(n1,end =\" \")\n",
    "    \n",
    "    newnumber = n1 + n2\n",
    "    n1 = n2\n",
    "    n2 = newnumber\n",
    "    \n",
    "    count = count + 1\n",
    "    \n",
    "    "
   ]
  },
  {
   "cell_type": "code",
   "execution_count": null,
   "id": "e17f2dad",
   "metadata": {},
   "outputs": [],
   "source": []
  }
 ],
 "metadata": {
  "kernelspec": {
   "display_name": "Python 3 (ipykernel)",
   "language": "python",
   "name": "python3"
  },
  "language_info": {
   "codemirror_mode": {
    "name": "ipython",
    "version": 3
   },
   "file_extension": ".py",
   "mimetype": "text/x-python",
   "name": "python",
   "nbconvert_exporter": "python",
   "pygments_lexer": "ipython3",
   "version": "3.9.12"
  }
 },
 "nbformat": 4,
 "nbformat_minor": 5
}
