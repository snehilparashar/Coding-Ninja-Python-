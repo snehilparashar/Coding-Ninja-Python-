{
 "cells": [
  {
   "cell_type": "markdown",
   "id": "ed5843f7",
   "metadata": {},
   "source": [
    "### Binary Search"
   ]
  },
  {
   "cell_type": "code",
   "execution_count": 14,
   "id": "13451892",
   "metadata": {},
   "outputs": [],
   "source": [
    "def binary_search(arr,element):\n",
    "    \n",
    "    lowerbound = 0\n",
    "    upperbound = len(arr)-1\n",
    "    \n",
    "    while lowerbound <= upperbound:\n",
    "        \n",
    "        middle = lowerbound+upperbound//2\n",
    "        \n",
    "        if element == arr[middle]:\n",
    "            return middle\n",
    "        elif element > arr[middle]:\n",
    "            lowerbound = middle + 1\n",
    "        else:\n",
    "            upperbound = middle - 1\n",
    "            \n",
    "    return \"Element not found\""
   ]
  },
  {
   "cell_type": "code",
   "execution_count": 15,
   "id": "44991533",
   "metadata": {},
   "outputs": [
    {
     "data": {
      "text/plain": [
       "1"
      ]
     },
     "execution_count": 15,
     "metadata": {},
     "output_type": "execute_result"
    }
   ],
   "source": [
    "li = [12,34,56,78,90]\n",
    "binary_search(li,34)"
   ]
  },
  {
   "cell_type": "markdown",
   "id": "581e230e",
   "metadata": {},
   "source": [
    "### Selection Sort"
   ]
  },
  {
   "cell_type": "code",
   "execution_count": 20,
   "id": "e7bbb635",
   "metadata": {},
   "outputs": [],
   "source": [
    "def selection_sort(array):\n",
    "    \n",
    "    for i in range(len(array)):\n",
    "        \n",
    "        min_index = i\n",
    "        \n",
    "        for j in range(i+1,len(array)):\n",
    "            \n",
    "            if array[j] < array[min_index]:\n",
    "                min_index = j\n",
    "                \n",
    "                array[i],array[min_index] = array[min_index],array[i]\n",
    "                \n",
    "    return array"
   ]
  },
  {
   "cell_type": "code",
   "execution_count": 21,
   "id": "24eb47b3",
   "metadata": {},
   "outputs": [
    {
     "data": {
      "text/plain": [
       "[1, 2, 3, 4, 6]"
      ]
     },
     "execution_count": 21,
     "metadata": {},
     "output_type": "execute_result"
    }
   ],
   "source": [
    "li = [1,3,2,6,4]\n",
    "selection_sort(li)"
   ]
  },
  {
   "cell_type": "markdown",
   "id": "cee4936e",
   "metadata": {},
   "source": [
    "### Bubble Sort"
   ]
  },
  {
   "cell_type": "code",
   "execution_count": 22,
   "id": "313c7784",
   "metadata": {},
   "outputs": [],
   "source": [
    "def bubble_sort(array):\n",
    "    \n",
    "    for i in range(len(array)):\n",
    "        \n",
    "        for j in range(len(array)-1):\n",
    "            \n",
    "            if array[j] > array[j+1]:\n",
    "                \n",
    "                array[j],array[j+1] = array[j+1],array[j]\n",
    "                \n",
    "            \n",
    "    return array"
   ]
  },
  {
   "cell_type": "code",
   "execution_count": 27,
   "id": "3630727d",
   "metadata": {},
   "outputs": [
    {
     "data": {
      "text/plain": [
       "[1, 2, 3, 4, 6]"
      ]
     },
     "execution_count": 27,
     "metadata": {},
     "output_type": "execute_result"
    }
   ],
   "source": [
    "li1 = [1,3,2,6,4]\n",
    "bubble_sort(li1)"
   ]
  },
  {
   "cell_type": "markdown",
   "id": "0e3d3306",
   "metadata": {},
   "source": [
    "### Optimizing Bubble Sort"
   ]
  },
  {
   "cell_type": "code",
   "execution_count": 25,
   "id": "3c89543e",
   "metadata": {},
   "outputs": [],
   "source": [
    "def bubble_sort2(arr):\n",
    "    \n",
    "    for i in range(len(arr)-1):\n",
    "        \n",
    "        for j in range(len(arr)-1-i):\n",
    "            \n",
    "            if arr[j] > arr[j+1]:\n",
    "                \n",
    "                arr[j],arr[j+1] = arr[j+1],arr[j]\n",
    "                \n",
    "    return arr"
   ]
  },
  {
   "cell_type": "code",
   "execution_count": 26,
   "id": "6b9312e8",
   "metadata": {},
   "outputs": [
    {
     "data": {
      "text/plain": [
       "[1, 2, 3, 4, 6]"
      ]
     },
     "execution_count": 26,
     "metadata": {},
     "output_type": "execute_result"
    }
   ],
   "source": [
    "li2 = [1,3,2,6,4]\n",
    "bubble_sort2(li2)"
   ]
  },
  {
   "cell_type": "markdown",
   "id": "93ad6bab",
   "metadata": {},
   "source": [
    "### Insertion sort"
   ]
  },
  {
   "cell_type": "code",
   "execution_count": 30,
   "id": "0c8e02fb",
   "metadata": {},
   "outputs": [],
   "source": [
    "def insertion_sort(array):\n",
    "    \n",
    "    for i in range(1,len(array)):\n",
    "        \n",
    "        j = i-1\n",
    "        temp = array[i]\n",
    "        while j >= 0 and array[j] > temp:\n",
    "            \n",
    "            array[j+1] = array[j]\n",
    "            \n",
    "            j = j - 1\n",
    "            \n",
    "        array[j+1] = temp\n",
    "        \n",
    "    return array"
   ]
  },
  {
   "cell_type": "code",
   "execution_count": 31,
   "id": "6a32f961",
   "metadata": {},
   "outputs": [
    {
     "data": {
      "text/plain": [
       "[1, 2, 3, 4, 6]"
      ]
     },
     "execution_count": 31,
     "metadata": {},
     "output_type": "execute_result"
    }
   ],
   "source": [
    "li3 = [1,3,2,6,4]\n",
    "insertion_sort(li3)"
   ]
  },
  {
   "cell_type": "markdown",
   "id": "c40ea32c",
   "metadata": {},
   "source": [
    "### Merge two sorted array"
   ]
  },
  {
   "cell_type": "code",
   "execution_count": 32,
   "id": "4129eef7",
   "metadata": {},
   "outputs": [],
   "source": [
    "def merge_sorted_array(a1,a2):\n",
    "    \n",
    "    i = 0\n",
    "    j = 0\n",
    "    new_array = []\n",
    "    \n",
    "    while i < len(a1) and j < len(a2):\n",
    "        \n",
    "        if a1[i] < a2[j]:\n",
    "            new_array.append(a1[i])\n",
    "            \n",
    "            i = i + 1\n",
    "            \n",
    "        else:\n",
    "            new_array.append(a2[j])\n",
    "            j = j + 1\n",
    "            \n",
    "    while i < len(a1):\n",
    "        new_array.append(a1[i])\n",
    "        i = i + 1\n",
    "        \n",
    "    while j < len(a2):\n",
    "        new_array.append(a2[j])\n",
    "        \n",
    "        j = j + 1\n",
    "        \n",
    "    return new_array"
   ]
  },
  {
   "cell_type": "code",
   "execution_count": 33,
   "id": "bc2dd7c0",
   "metadata": {},
   "outputs": [
    {
     "data": {
      "text/plain": [
       "[1, 2, 3, 4, 4, 5, 5, 6, 6, 7, 8]"
      ]
     },
     "execution_count": 33,
     "metadata": {},
     "output_type": "execute_result"
    }
   ],
   "source": [
    "a1 = [1,2,3,4,5,6]\n",
    "a2 = [4,5,6,7,8]\n",
    "\n",
    "merge_sorted_array(a1,a2)"
   ]
  },
  {
   "cell_type": "markdown",
   "id": "ae45a10b",
   "metadata": {},
   "source": [
    "### Push Zero to end"
   ]
  },
  {
   "cell_type": "code",
   "execution_count": 41,
   "id": "0447e0d2",
   "metadata": {},
   "outputs": [],
   "source": [
    "def pushzerotoend(array):\n",
    "    \n",
    "    i = 0\n",
    "    j = 0\n",
    "    length = len(array)\n",
    "    while i < length:\n",
    "        \n",
    "        if array[i] != 0 and array[j] != 0:\n",
    "            \n",
    "            i = i + 1\n",
    "            j = j + 1\n",
    "            \n",
    "        elif array[i] == 0:\n",
    "            i = i + 1\n",
    "            \n",
    "        elif array[j] == 0 and array[i] != 0:\n",
    "            \n",
    "            array[i],array[j] = array[j],array[i]\n",
    "            \n",
    "            i = i + 1\n",
    "            j = j + 1\n",
    "            \n",
    "    return array\n",
    "        "
   ]
  },
  {
   "cell_type": "code",
   "execution_count": 42,
   "id": "5b97799b",
   "metadata": {},
   "outputs": [
    {
     "data": {
      "text/plain": [
       "[1, 3, 4, 0, 0]"
      ]
     },
     "execution_count": 42,
     "metadata": {},
     "output_type": "execute_result"
    }
   ],
   "source": [
    "li4 = [1,0,3,0,4]\n",
    "pushzerotoend(li4)"
   ]
  },
  {
   "cell_type": "markdown",
   "id": "a86133b4",
   "metadata": {},
   "source": [
    "### Reverse array"
   ]
  },
  {
   "cell_type": "code",
   "execution_count": 47,
   "id": "3a83b4e8",
   "metadata": {},
   "outputs": [],
   "source": [
    "def swapelements(array,start,end):\n",
    "    \n",
    "    array[start],array[end] = array[end],array[start]\n",
    "    \n",
    "def reverseofarray(array,start,end):\n",
    "    \n",
    "    while start < end:\n",
    "        \n",
    "        swapelements(array,start,end)\n",
    "        start = start + 1\n",
    "        end = end - 1\n",
    "        \n",
    "def rotationofarray(array,d):\n",
    "    \n",
    "    n = len(array)\n",
    "    \n",
    "    if n == 0:\n",
    "        return\n",
    "    \n",
    "    if d >= n and n != 0:\n",
    "        d = d % n\n",
    "        \n",
    "    reverseofarray(array,0,n-1)\n",
    "    reverseofarray(array,0,n-d-1)\n",
    "    reverseofarray(array,n-d,n-1)\n",
    "    \n",
    "    \n",
    "    return array"
   ]
  },
  {
   "cell_type": "code",
   "execution_count": 48,
   "id": "73350fc1",
   "metadata": {},
   "outputs": [
    {
     "data": {
      "text/plain": [
       "[3, 0, 4, 1, 0]"
      ]
     },
     "execution_count": 48,
     "metadata": {},
     "output_type": "execute_result"
    }
   ],
   "source": [
    "li5 = [1,0,3,0,4]\n",
    "rotationofarray(li5,2)"
   ]
  },
  {
   "cell_type": "markdown",
   "id": "d37158d2",
   "metadata": {},
   "source": [
    "### 2nd Largest"
   ]
  },
  {
   "cell_type": "code",
   "execution_count": 49,
   "id": "05d98c67",
   "metadata": {},
   "outputs": [],
   "source": [
    "# Take Minimum value as MIN_VALUE = -2147483648\n",
    "\n",
    "def secondlargestinarray(array):\n",
    "    \n",
    "    MIN_VALUE = -2147483648\n",
    "    n = len(array)\n",
    "    \n",
    "    if n == 0:\n",
    "        return MIN_VALUE\n",
    "    largest = array[0]\n",
    "    secondlargest = MIN_VALUE\n",
    "    for i in range(n):\n",
    "        \n",
    "        if largest < array[i]:\n",
    "            secondlargest = largest\n",
    "            largest = array[i]\n",
    "            \n",
    "        elif secondlargest < array[i] and array[i] != largest:\n",
    "            secondlargest = array[i]\n",
    "            \n",
    "    return secondlargest\n"
   ]
  },
  {
   "cell_type": "code",
   "execution_count": 50,
   "id": "330c2906",
   "metadata": {},
   "outputs": [
    {
     "data": {
      "text/plain": [
       "3"
      ]
     },
     "execution_count": 50,
     "metadata": {},
     "output_type": "execute_result"
    }
   ],
   "source": [
    "li6 = [1,0,3,0,4]\n",
    "secondlargestinarray(li6)"
   ]
  },
  {
   "cell_type": "markdown",
   "id": "b9aa069d",
   "metadata": {},
   "source": [
    "### Sort 0 1 2"
   ]
  },
  {
   "cell_type": "code",
   "execution_count": 53,
   "id": "b223495a",
   "metadata": {},
   "outputs": [],
   "source": [
    "def sort012ofarray(array):\n",
    "    \n",
    "    low = 0\n",
    "    mid = 0\n",
    "    high = len(array) - 1\n",
    "    \n",
    "    while mid <= high:\n",
    "        \n",
    "        if array[mid] == 0:\n",
    "            \n",
    "            array[low],array[mid] = array[mid],array[low]\n",
    "            \n",
    "            mid = mid + 1\n",
    "            low = low + 1\n",
    "            \n",
    "        elif array[mid] == 1:\n",
    "            mid = mid + 1\n",
    "            \n",
    "        else:\n",
    "            array[mid],array[high] = array[high],array[mid]\n",
    "            \n",
    "            \n",
    "            high = high - 1\n",
    "            \n",
    "    return array"
   ]
  },
  {
   "cell_type": "code",
   "execution_count": 54,
   "id": "4afeb1ab",
   "metadata": {},
   "outputs": [
    {
     "data": {
      "text/plain": [
       "[0, 0, 1, 1, 1, 2, 2]"
      ]
     },
     "execution_count": 54,
     "metadata": {},
     "output_type": "execute_result"
    }
   ],
   "source": [
    "li7 = [1,0,2,1,1,0,2]\n",
    "sort012ofarray(li7)"
   ]
  },
  {
   "cell_type": "markdown",
   "id": "85109d13",
   "metadata": {},
   "source": [
    "### Running sum"
   ]
  },
  {
   "cell_type": "code",
   "execution_count": 61,
   "id": "13a6ba59",
   "metadata": {},
   "outputs": [],
   "source": [
    "def runningsum(array):\n",
    "    i = 0\n",
    "    sum = 0\n",
    "    \n",
    "    while i < len(array):\n",
    "        \n",
    "        sum = sum + array[i]\n",
    "        \n",
    "        array[i] = sum\n",
    "        \n",
    "        i = i + 1\n",
    "        \n",
    "    return array"
   ]
  },
  {
   "cell_type": "code",
   "execution_count": 62,
   "id": "490b36d6",
   "metadata": {},
   "outputs": [
    {
     "data": {
      "text/plain": [
       "[1, 3, 6, 10, 15]"
      ]
     },
     "execution_count": 62,
     "metadata": {},
     "output_type": "execute_result"
    }
   ],
   "source": [
    "li8 = [1,2,3,4,5]\n",
    "runningsum(li8)"
   ]
  },
  {
   "cell_type": "code",
   "execution_count": null,
   "id": "5b22907d",
   "metadata": {},
   "outputs": [],
   "source": []
  }
 ],
 "metadata": {
  "kernelspec": {
   "display_name": "Python 3 (ipykernel)",
   "language": "python",
   "name": "python3"
  },
  "language_info": {
   "codemirror_mode": {
    "name": "ipython",
    "version": 3
   },
   "file_extension": ".py",
   "mimetype": "text/x-python",
   "name": "python",
   "nbconvert_exporter": "python",
   "pygments_lexer": "ipython3",
   "version": "3.9.12"
  }
 },
 "nbformat": 4,
 "nbformat_minor": 5
}
