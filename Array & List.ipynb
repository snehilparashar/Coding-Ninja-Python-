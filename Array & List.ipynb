{
 "cells": [
  {
   "cell_type": "markdown",
   "id": "35fd36df",
   "metadata": {},
   "source": [
    "### Array Sum"
   ]
  },
  {
   "cell_type": "code",
   "execution_count": 2,
   "id": "3aa10d5b",
   "metadata": {},
   "outputs": [
    {
     "name": "stdout",
     "output_type": "stream",
     "text": [
      "1 2 3 4 5\n",
      "15\n"
     ]
    }
   ],
   "source": [
    "li = [int(ele) for ele in input().split()]\n",
    "sum = 0\n",
    "for i in range(len(li)):\n",
    "    sum = sum + li[i]\n",
    "\n",
    "    \n",
    "print(sum)"
   ]
  },
  {
   "cell_type": "markdown",
   "id": "9b33071c",
   "metadata": {},
   "source": [
    "### Reverse of a list"
   ]
  },
  {
   "cell_type": "code",
   "execution_count": 3,
   "id": "64d05f44",
   "metadata": {},
   "outputs": [],
   "source": [
    "def reverse_of_list(li):\n",
    "    \n",
    "    length = len(li)\n",
    "    \n",
    "    for i in range(length//2):\n",
    "        \n",
    "        li[i], li[length-i-1] = li[length-i-1],li[i]\n",
    "        \n",
    "    return li"
   ]
  },
  {
   "cell_type": "code",
   "execution_count": 4,
   "id": "6e5fddb1",
   "metadata": {},
   "outputs": [
    {
     "data": {
      "text/plain": [
       "[8, 7, 6, 4, 3, 1]"
      ]
     },
     "execution_count": 4,
     "metadata": {},
     "output_type": "execute_result"
    }
   ],
   "source": [
    "li = [1,3,4,6,7,8]\n",
    "reverse_of_list(li)"
   ]
  },
  {
   "cell_type": "markdown",
   "id": "97daa8de",
   "metadata": {},
   "source": [
    "### Swap Alternate"
   ]
  },
  {
   "cell_type": "code",
   "execution_count": 5,
   "id": "45aece40",
   "metadata": {},
   "outputs": [],
   "source": [
    "def swap_alternate(li):\n",
    "    \n",
    "    length = len(li)\n",
    "    \n",
    "    for i in range(0,length-1,2):\n",
    "        \n",
    "        li[i],li[i+1] = li[i+1],li[i]\n",
    "        \n",
    "    return li"
   ]
  },
  {
   "cell_type": "code",
   "execution_count": 7,
   "id": "483428d0",
   "metadata": {},
   "outputs": [
    {
     "data": {
      "text/plain": [
       "[3, 1, 6, 4, 8, 7]"
      ]
     },
     "execution_count": 7,
     "metadata": {},
     "output_type": "execute_result"
    }
   ],
   "source": [
    "li = [1,3,4,6,7,8]\n",
    "swap_alternate(li)"
   ]
  },
  {
   "cell_type": "markdown",
   "id": "6f4bb25f",
   "metadata": {},
   "source": [
    "### Find unique"
   ]
  },
  {
   "cell_type": "code",
   "execution_count": 23,
   "id": "ad3929e9",
   "metadata": {},
   "outputs": [],
   "source": [
    "def find_unique(li):\n",
    "    \n",
    "    for i in range(len(li)):\n",
    "        \n",
    "        j = 0\n",
    "        \n",
    "        while j < len(li):\n",
    "            if i != j:\n",
    "                if li[i] == li[j]:\n",
    "                    break\n",
    "                \n",
    "            j = j + 1\n",
    "            \n",
    "        if j == len(li):\n",
    "            return li[i]"
   ]
  },
  {
   "cell_type": "code",
   "execution_count": 24,
   "id": "211a1c40",
   "metadata": {},
   "outputs": [
    {
     "data": {
      "text/plain": [
       "3"
      ]
     },
     "execution_count": 24,
     "metadata": {},
     "output_type": "execute_result"
    }
   ],
   "source": [
    "li = [1,1,2,2,3,4,4]\n",
    "find_unique(li)"
   ]
  },
  {
   "cell_type": "markdown",
   "id": "ac2983e6",
   "metadata": {},
   "source": [
    "### Find Duplicate"
   ]
  },
  {
   "cell_type": "code",
   "execution_count": 25,
   "id": "b3b2ff77",
   "metadata": {},
   "outputs": [],
   "source": [
    "def find_duplicate(li):\n",
    "    \n",
    "    for i in range(0,len(li)):\n",
    "        \n",
    "        j = 0\n",
    "        \n",
    "        while j < len(li):\n",
    "            \n",
    "            if i != j:\n",
    "                if li[i] == li[j]:\n",
    "                    return li[i]\n",
    "                \n",
    "            j = j + 1\n",
    "            \n",
    "    else:\n",
    "        return"
   ]
  },
  {
   "cell_type": "code",
   "execution_count": 26,
   "id": "cba6229f",
   "metadata": {},
   "outputs": [
    {
     "data": {
      "text/plain": [
       "6"
      ]
     },
     "execution_count": 26,
     "metadata": {},
     "output_type": "execute_result"
    }
   ],
   "source": [
    "li = [1,2,3,4,5,6,6]\n",
    "find_duplicate(li)"
   ]
  },
  {
   "cell_type": "markdown",
   "id": "d68d019d",
   "metadata": {},
   "source": [
    "### Intersection of two arrays"
   ]
  },
  {
   "cell_type": "code",
   "execution_count": 29,
   "id": "b32a648f",
   "metadata": {},
   "outputs": [],
   "source": [
    "import sys\n",
    "\n",
    "def intersection_of_2list(arr1,arr2):\n",
    "    li = []\n",
    "    for i in range(len(arr1)):\n",
    "        for j in range(len(arr2)):\n",
    "            \n",
    "            if arr1[i] == arr2[j]:\n",
    "                li.append(arr1[i])\n",
    "                arr2[j] = sys.maxsize\n",
    "                \n",
    "                break\n",
    "            \n",
    "    return li"
   ]
  },
  {
   "cell_type": "code",
   "execution_count": 30,
   "id": "450423e0",
   "metadata": {},
   "outputs": [
    {
     "data": {
      "text/plain": [
       "[1, 3, 4, 6]"
      ]
     },
     "execution_count": 30,
     "metadata": {},
     "output_type": "execute_result"
    }
   ],
   "source": [
    "li1 = [1,2,3,4,5,6,8]\n",
    "li2 = [1,3,4,6,7,9]\n",
    "\n",
    "intersection_of_2list(li1,li2)"
   ]
  },
  {
   "cell_type": "markdown",
   "id": "97dfeddf",
   "metadata": {},
   "source": [
    "### Pair Sum"
   ]
  },
  {
   "cell_type": "code",
   "execution_count": 32,
   "id": "6f9d9b83",
   "metadata": {},
   "outputs": [],
   "source": [
    "def pair_sum(arr,x):\n",
    "    \n",
    "    count = 0\n",
    "    \n",
    "    for i in range(0,len(arr)):\n",
    "        \n",
    "        for j in range(i+1,len(arr)):\n",
    "            \n",
    "            if arr[i] + arr[j] == x:\n",
    "                \n",
    "                count = count + 1\n",
    "                \n",
    "    return count"
   ]
  },
  {
   "cell_type": "code",
   "execution_count": 33,
   "id": "19f992cf",
   "metadata": {},
   "outputs": [
    {
     "data": {
      "text/plain": [
       "2"
      ]
     },
     "execution_count": 33,
     "metadata": {},
     "output_type": "execute_result"
    }
   ],
   "source": [
    "li3 = [1,2,3,4,5,6,8]\n",
    "pair_sum(li3,5)"
   ]
  },
  {
   "cell_type": "code",
   "execution_count": 40,
   "id": "efca203f",
   "metadata": {},
   "outputs": [],
   "source": [
    "### If we had to return indices\n",
    "##Leetcode\n",
    "def pair_sum2(arr,x):\n",
    "    \n",
    "    li = []\n",
    "    \n",
    "    for i in range(0,len(arr)):\n",
    "        \n",
    "        for j in range(i+1,len(arr)):\n",
    "            \n",
    "            if arr[i] + arr[j]:\n",
    "                \n",
    "                li.append(i)\n",
    "                li.append(j)\n",
    "                \n",
    "                break\n",
    "            else:\n",
    "                continue\n",
    "                \n",
    "    return li\n",
    "            \n"
   ]
  },
  {
   "cell_type": "code",
   "execution_count": 41,
   "id": "470de14e",
   "metadata": {},
   "outputs": [
    {
     "data": {
      "text/plain": [
       "[0, 1, 1, 2, 2, 3, 3, 4, 4, 5, 5, 6]"
      ]
     },
     "execution_count": 41,
     "metadata": {},
     "output_type": "execute_result"
    }
   ],
   "source": [
    "li3 = [1,2,3,4,5,6,8]\n",
    "pair_sum2(li3,5)"
   ]
  },
  {
   "cell_type": "markdown",
   "id": "2c6db41d",
   "metadata": {},
   "source": [
    "### Triplet Sum"
   ]
  },
  {
   "cell_type": "code",
   "execution_count": 44,
   "id": "343ba47e",
   "metadata": {},
   "outputs": [],
   "source": [
    "def triplet_sum(arr,x):\n",
    "    \n",
    "    count = 0\n",
    "    \n",
    "    for i in range(0,len(arr)):\n",
    "        \n",
    "        for j in range(i+1,len(arr)):\n",
    "            \n",
    "            for k in range(j+1,len(arr)):\n",
    "                \n",
    "                \n",
    "                if arr[i] + arr[j] + arr[k] == x:\n",
    "                    \n",
    "                    count = count + 1\n",
    "                    \n",
    "    return count"
   ]
  },
  {
   "cell_type": "code",
   "execution_count": 46,
   "id": "4b71d4d6",
   "metadata": {},
   "outputs": [
    {
     "data": {
      "text/plain": [
       "1"
      ]
     },
     "execution_count": 46,
     "metadata": {},
     "output_type": "execute_result"
    }
   ],
   "source": [
    "li4 = [1,1,3,4,5,6,7]\n",
    "triplet_sum(li4,5)"
   ]
  }
 ],
 "metadata": {
  "kernelspec": {
   "display_name": "Python 3 (ipykernel)",
   "language": "python",
   "name": "python3"
  },
  "language_info": {
   "codemirror_mode": {
    "name": "ipython",
    "version": 3
   },
   "file_extension": ".py",
   "mimetype": "text/x-python",
   "name": "python",
   "nbconvert_exporter": "python",
   "pygments_lexer": "ipython3",
   "version": "3.9.12"
  }
 },
 "nbformat": 4,
 "nbformat_minor": 5
}
